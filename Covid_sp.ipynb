{
 "cells": [
  {
   "cell_type": "markdown",
   "metadata": {},
   "source": [
    "### Evolução do Número Total de Casos e Número Diário de Casos de Covid-19 no Estado de São Paulo."
   ]
  },
  {
   "cell_type": "code",
   "execution_count": 21,
   "metadata": {},
   "outputs": [
    {
     "data": {
      "text/html": [
       "        <script type=\"text/javascript\">\n",
       "        window.PlotlyConfig = {MathJaxConfig: 'local'};\n",
       "        if (window.MathJax) {MathJax.Hub.Config({SVG: {font: \"STIX-Web\"}});}\n",
       "        if (typeof require !== 'undefined') {\n",
       "        require.undef(\"plotly\");\n",
       "        requirejs.config({\n",
       "            paths: {\n",
       "                'plotly': ['https://cdn.plot.ly/plotly-latest.min']\n",
       "            }\n",
       "        });\n",
       "        require(['plotly'], function(Plotly) {\n",
       "            window._Plotly = Plotly;\n",
       "        });\n",
       "        }\n",
       "        </script>\n",
       "        "
      ]
     },
     "metadata": {},
     "output_type": "display_data"
    }
   ],
   "source": [
    "# Importando os pacotes necessários.\n",
    "import pandas as pd\n",
    "import numpy as np\n",
    "from datetime import datetime\n",
    "import plotly.offline as py\n",
    "import plotly.graph_objs as go\n",
    "py.init_notebook_mode(connected=True)"
   ]
  },
  {
   "cell_type": "code",
   "execution_count": 22,
   "metadata": {},
   "outputs": [
    {
     "data": {
      "text/plain": [
       "'C:\\\\Users\\\\dlt02\\\\Documents\\\\Data Scientist\\\\Covid-19'"
      ]
     },
     "execution_count": 22,
     "metadata": {},
     "output_type": "execute_result"
    }
   ],
   "source": [
    "pwd"
   ]
  },
  {
   "cell_type": "code",
   "execution_count": 23,
   "metadata": {},
   "outputs": [],
   "source": [
    "filepath = 'Dados-covid-19-estado_2.csv'"
   ]
  },
  {
   "cell_type": "code",
   "execution_count": 24,
   "metadata": {},
   "outputs": [
    {
     "data": {
      "text/html": [
       "<div>\n",
       "<style scoped>\n",
       "    .dataframe tbody tr th:only-of-type {\n",
       "        vertical-align: middle;\n",
       "    }\n",
       "\n",
       "    .dataframe tbody tr th {\n",
       "        vertical-align: top;\n",
       "    }\n",
       "\n",
       "    .dataframe thead th {\n",
       "        text-align: right;\n",
       "    }\n",
       "</style>\n",
       "<table border=\"1\" class=\"dataframe\">\n",
       "  <thead>\n",
       "    <tr style=\"text-align: right;\">\n",
       "      <th></th>\n",
       "      <th>Data</th>\n",
       "      <th>Total de casos</th>\n",
       "      <th>Casos por dia</th>\n",
       "      <th>Óbitos por dia</th>\n",
       "      <th>Unnamed: 4</th>\n",
       "      <th>Unnamed: 5</th>\n",
       "      <th>Unnamed: 6</th>\n",
       "      <th>Unnamed: 7</th>\n",
       "      <th>Unnamed: 8</th>\n",
       "    </tr>\n",
       "  </thead>\n",
       "  <tbody>\n",
       "    <tr>\n",
       "      <th>0</th>\n",
       "      <td>26 fev</td>\n",
       "      <td>1</td>\n",
       "      <td>1</td>\n",
       "      <td>NaN</td>\n",
       "      <td>NaN</td>\n",
       "      <td>NaN</td>\n",
       "      <td>NaN</td>\n",
       "      <td>NaN</td>\n",
       "      <td>NaN</td>\n",
       "    </tr>\n",
       "    <tr>\n",
       "      <th>1</th>\n",
       "      <td>27 fev</td>\n",
       "      <td>0</td>\n",
       "      <td>0</td>\n",
       "      <td>NaN</td>\n",
       "      <td>NaN</td>\n",
       "      <td>NaN</td>\n",
       "      <td>NaN</td>\n",
       "      <td>NaN</td>\n",
       "      <td>NaN</td>\n",
       "    </tr>\n",
       "    <tr>\n",
       "      <th>2</th>\n",
       "      <td>28 fev</td>\n",
       "      <td>0</td>\n",
       "      <td>0</td>\n",
       "      <td>NaN</td>\n",
       "      <td>NaN</td>\n",
       "      <td>NaN</td>\n",
       "      <td>NaN</td>\n",
       "      <td>NaN</td>\n",
       "      <td>NaN</td>\n",
       "    </tr>\n",
       "    <tr>\n",
       "      <th>3</th>\n",
       "      <td>29 fev</td>\n",
       "      <td>2</td>\n",
       "      <td>1</td>\n",
       "      <td>NaN</td>\n",
       "      <td>NaN</td>\n",
       "      <td>NaN</td>\n",
       "      <td>NaN</td>\n",
       "      <td>NaN</td>\n",
       "      <td>NaN</td>\n",
       "    </tr>\n",
       "    <tr>\n",
       "      <th>4</th>\n",
       "      <td>01 mar</td>\n",
       "      <td>0</td>\n",
       "      <td>0</td>\n",
       "      <td>NaN</td>\n",
       "      <td>NaN</td>\n",
       "      <td>NaN</td>\n",
       "      <td>NaN</td>\n",
       "      <td>NaN</td>\n",
       "      <td>NaN</td>\n",
       "    </tr>\n",
       "    <tr>\n",
       "      <th>...</th>\n",
       "      <td>...</td>\n",
       "      <td>...</td>\n",
       "      <td>...</td>\n",
       "      <td>...</td>\n",
       "      <td>...</td>\n",
       "      <td>...</td>\n",
       "      <td>...</td>\n",
       "      <td>...</td>\n",
       "      <td>...</td>\n",
       "    </tr>\n",
       "    <tr>\n",
       "      <th>244</th>\n",
       "      <td>27/out</td>\n",
       "      <td>1098207</td>\n",
       "      <td>5364</td>\n",
       "      <td>132.0</td>\n",
       "      <td>NaN</td>\n",
       "      <td>NaN</td>\n",
       "      <td>NaN</td>\n",
       "      <td>NaN</td>\n",
       "      <td>NaN</td>\n",
       "    </tr>\n",
       "    <tr>\n",
       "      <th>245</th>\n",
       "      <td>28/out</td>\n",
       "      <td>1103582</td>\n",
       "      <td>5375</td>\n",
       "      <td>122.0</td>\n",
       "      <td>NaN</td>\n",
       "      <td>NaN</td>\n",
       "      <td>NaN</td>\n",
       "      <td>NaN</td>\n",
       "      <td>NaN</td>\n",
       "    </tr>\n",
       "    <tr>\n",
       "      <th>246</th>\n",
       "      <td>29/out</td>\n",
       "      <td>1108860</td>\n",
       "      <td>5278</td>\n",
       "      <td>112.0</td>\n",
       "      <td>NaN</td>\n",
       "      <td>NaN</td>\n",
       "      <td>NaN</td>\n",
       "      <td>NaN</td>\n",
       "      <td>NaN</td>\n",
       "    </tr>\n",
       "    <tr>\n",
       "      <th>247</th>\n",
       "      <td>30/out</td>\n",
       "      <td>1113788</td>\n",
       "      <td>4928</td>\n",
       "      <td>136.0</td>\n",
       "      <td>NaN</td>\n",
       "      <td>NaN</td>\n",
       "      <td>NaN</td>\n",
       "      <td>NaN</td>\n",
       "      <td>NaN</td>\n",
       "    </tr>\n",
       "    <tr>\n",
       "      <th>248</th>\n",
       "      <td>31/out</td>\n",
       "      <td>1116127</td>\n",
       "      <td>2339</td>\n",
       "      <td>56.0</td>\n",
       "      <td>NaN</td>\n",
       "      <td>NaN</td>\n",
       "      <td>NaN</td>\n",
       "      <td>NaN</td>\n",
       "      <td>NaN</td>\n",
       "    </tr>\n",
       "  </tbody>\n",
       "</table>\n",
       "<p>249 rows × 9 columns</p>\n",
       "</div>"
      ],
      "text/plain": [
       "       Data  Total de casos  Casos por dia  Óbitos por dia  Unnamed: 4  \\\n",
       "0    26 fev               1              1             NaN         NaN   \n",
       "1    27 fev               0              0             NaN         NaN   \n",
       "2    28 fev               0              0             NaN         NaN   \n",
       "3    29 fev               2              1             NaN         NaN   \n",
       "4    01 mar               0              0             NaN         NaN   \n",
       "..      ...             ...            ...             ...         ...   \n",
       "244  27/out         1098207           5364           132.0         NaN   \n",
       "245  28/out         1103582           5375           122.0         NaN   \n",
       "246  29/out         1108860           5278           112.0         NaN   \n",
       "247  30/out         1113788           4928           136.0         NaN   \n",
       "248  31/out         1116127           2339            56.0         NaN   \n",
       "\n",
       "     Unnamed: 5  Unnamed: 6  Unnamed: 7  Unnamed: 8  \n",
       "0           NaN         NaN         NaN         NaN  \n",
       "1           NaN         NaN         NaN         NaN  \n",
       "2           NaN         NaN         NaN         NaN  \n",
       "3           NaN         NaN         NaN         NaN  \n",
       "4           NaN         NaN         NaN         NaN  \n",
       "..          ...         ...         ...         ...  \n",
       "244         NaN         NaN         NaN         NaN  \n",
       "245         NaN         NaN         NaN         NaN  \n",
       "246         NaN         NaN         NaN         NaN  \n",
       "247         NaN         NaN         NaN         NaN  \n",
       "248         NaN         NaN         NaN         NaN  \n",
       "\n",
       "[249 rows x 9 columns]"
      ]
     },
     "execution_count": 24,
     "metadata": {},
     "output_type": "execute_result"
    }
   ],
   "source": [
    "# leitura dos dados.\n",
    "covid_sp = pd.read_csv(filepath, sep=';')\n",
    "covid_sp"
   ]
  },
  {
   "cell_type": "code",
   "execution_count": 25,
   "metadata": {},
   "outputs": [
    {
     "data": {
      "text/html": [
       "<div>\n",
       "<style scoped>\n",
       "    .dataframe tbody tr th:only-of-type {\n",
       "        vertical-align: middle;\n",
       "    }\n",
       "\n",
       "    .dataframe tbody tr th {\n",
       "        vertical-align: top;\n",
       "    }\n",
       "\n",
       "    .dataframe thead th {\n",
       "        text-align: right;\n",
       "    }\n",
       "</style>\n",
       "<table border=\"1\" class=\"dataframe\">\n",
       "  <thead>\n",
       "    <tr style=\"text-align: right;\">\n",
       "      <th></th>\n",
       "      <th>Data</th>\n",
       "      <th>Total de casos</th>\n",
       "      <th>Casos por dia</th>\n",
       "      <th>Óbitos por dia</th>\n",
       "    </tr>\n",
       "  </thead>\n",
       "  <tbody>\n",
       "    <tr>\n",
       "      <th>0</th>\n",
       "      <td>26 fev</td>\n",
       "      <td>1</td>\n",
       "      <td>1</td>\n",
       "      <td>NaN</td>\n",
       "    </tr>\n",
       "    <tr>\n",
       "      <th>1</th>\n",
       "      <td>27 fev</td>\n",
       "      <td>0</td>\n",
       "      <td>0</td>\n",
       "      <td>NaN</td>\n",
       "    </tr>\n",
       "    <tr>\n",
       "      <th>2</th>\n",
       "      <td>28 fev</td>\n",
       "      <td>0</td>\n",
       "      <td>0</td>\n",
       "      <td>NaN</td>\n",
       "    </tr>\n",
       "    <tr>\n",
       "      <th>3</th>\n",
       "      <td>29 fev</td>\n",
       "      <td>2</td>\n",
       "      <td>1</td>\n",
       "      <td>NaN</td>\n",
       "    </tr>\n",
       "    <tr>\n",
       "      <th>4</th>\n",
       "      <td>01 mar</td>\n",
       "      <td>0</td>\n",
       "      <td>0</td>\n",
       "      <td>NaN</td>\n",
       "    </tr>\n",
       "    <tr>\n",
       "      <th>...</th>\n",
       "      <td>...</td>\n",
       "      <td>...</td>\n",
       "      <td>...</td>\n",
       "      <td>...</td>\n",
       "    </tr>\n",
       "    <tr>\n",
       "      <th>244</th>\n",
       "      <td>27/out</td>\n",
       "      <td>1098207</td>\n",
       "      <td>5364</td>\n",
       "      <td>132.0</td>\n",
       "    </tr>\n",
       "    <tr>\n",
       "      <th>245</th>\n",
       "      <td>28/out</td>\n",
       "      <td>1103582</td>\n",
       "      <td>5375</td>\n",
       "      <td>122.0</td>\n",
       "    </tr>\n",
       "    <tr>\n",
       "      <th>246</th>\n",
       "      <td>29/out</td>\n",
       "      <td>1108860</td>\n",
       "      <td>5278</td>\n",
       "      <td>112.0</td>\n",
       "    </tr>\n",
       "    <tr>\n",
       "      <th>247</th>\n",
       "      <td>30/out</td>\n",
       "      <td>1113788</td>\n",
       "      <td>4928</td>\n",
       "      <td>136.0</td>\n",
       "    </tr>\n",
       "    <tr>\n",
       "      <th>248</th>\n",
       "      <td>31/out</td>\n",
       "      <td>1116127</td>\n",
       "      <td>2339</td>\n",
       "      <td>56.0</td>\n",
       "    </tr>\n",
       "  </tbody>\n",
       "</table>\n",
       "<p>249 rows × 4 columns</p>\n",
       "</div>"
      ],
      "text/plain": [
       "       Data  Total de casos  Casos por dia  Óbitos por dia\n",
       "0    26 fev               1              1             NaN\n",
       "1    27 fev               0              0             NaN\n",
       "2    28 fev               0              0             NaN\n",
       "3    29 fev               2              1             NaN\n",
       "4    01 mar               0              0             NaN\n",
       "..      ...             ...            ...             ...\n",
       "244  27/out         1098207           5364           132.0\n",
       "245  28/out         1103582           5375           122.0\n",
       "246  29/out         1108860           5278           112.0\n",
       "247  30/out         1113788           4928           136.0\n",
       "248  31/out         1116127           2339            56.0\n",
       "\n",
       "[249 rows x 4 columns]"
      ]
     },
     "execution_count": 25,
     "metadata": {},
     "output_type": "execute_result"
    }
   ],
   "source": [
    "# Removendo as colunas 'unnamed' do dataframe.\n",
    "covid_sp.drop(covid_sp.columns[covid_sp.columns.str.contains('unnamed',case = False)],axis = 1, inplace = True)\n",
    "covid_sp"
   ]
  },
  {
   "cell_type": "code",
   "execution_count": 26,
   "metadata": {},
   "outputs": [
    {
     "data": {
      "text/plain": [
       "(249, 4)"
      ]
     },
     "execution_count": 26,
     "metadata": {},
     "output_type": "execute_result"
    }
   ],
   "source": [
    "covid_sp.shape"
   ]
  },
  {
   "cell_type": "code",
   "execution_count": 27,
   "metadata": {},
   "outputs": [
    {
     "data": {
      "text/plain": [
       "Data               0\n",
       "Total de casos     0\n",
       "Casos por dia      0\n",
       "Óbitos por dia    20\n",
       "dtype: int64"
      ]
     },
     "execution_count": 27,
     "metadata": {},
     "output_type": "execute_result"
    }
   ],
   "source": [
    "# Verificando a existência de valores faltantes (NaNs).\n",
    "covid_sp.isnull().sum()"
   ]
  },
  {
   "cell_type": "code",
   "execution_count": 28,
   "metadata": {},
   "outputs": [
    {
     "data": {
      "text/html": [
       "<div>\n",
       "<style scoped>\n",
       "    .dataframe tbody tr th:only-of-type {\n",
       "        vertical-align: middle;\n",
       "    }\n",
       "\n",
       "    .dataframe tbody tr th {\n",
       "        vertical-align: top;\n",
       "    }\n",
       "\n",
       "    .dataframe thead th {\n",
       "        text-align: right;\n",
       "    }\n",
       "</style>\n",
       "<table border=\"1\" class=\"dataframe\">\n",
       "  <thead>\n",
       "    <tr style=\"text-align: right;\">\n",
       "      <th></th>\n",
       "      <th>Data</th>\n",
       "      <th>Total de casos</th>\n",
       "      <th>Casos por dia</th>\n",
       "      <th>Óbitos por dia</th>\n",
       "    </tr>\n",
       "  </thead>\n",
       "  <tbody>\n",
       "    <tr>\n",
       "      <th>20</th>\n",
       "      <td>17 mar</td>\n",
       "      <td>164</td>\n",
       "      <td>12</td>\n",
       "      <td>1.0</td>\n",
       "    </tr>\n",
       "    <tr>\n",
       "      <th>21</th>\n",
       "      <td>18 mar</td>\n",
       "      <td>240</td>\n",
       "      <td>76</td>\n",
       "      <td>3.0</td>\n",
       "    </tr>\n",
       "    <tr>\n",
       "      <th>22</th>\n",
       "      <td>19 mar</td>\n",
       "      <td>286</td>\n",
       "      <td>46</td>\n",
       "      <td>1.0</td>\n",
       "    </tr>\n",
       "    <tr>\n",
       "      <th>23</th>\n",
       "      <td>20 mar</td>\n",
       "      <td>396</td>\n",
       "      <td>110</td>\n",
       "      <td>4.0</td>\n",
       "    </tr>\n",
       "    <tr>\n",
       "      <th>24</th>\n",
       "      <td>21 mar</td>\n",
       "      <td>459</td>\n",
       "      <td>63</td>\n",
       "      <td>6.0</td>\n",
       "    </tr>\n",
       "    <tr>\n",
       "      <th>...</th>\n",
       "      <td>...</td>\n",
       "      <td>...</td>\n",
       "      <td>...</td>\n",
       "      <td>...</td>\n",
       "    </tr>\n",
       "    <tr>\n",
       "      <th>244</th>\n",
       "      <td>27/out</td>\n",
       "      <td>1098207</td>\n",
       "      <td>5364</td>\n",
       "      <td>132.0</td>\n",
       "    </tr>\n",
       "    <tr>\n",
       "      <th>245</th>\n",
       "      <td>28/out</td>\n",
       "      <td>1103582</td>\n",
       "      <td>5375</td>\n",
       "      <td>122.0</td>\n",
       "    </tr>\n",
       "    <tr>\n",
       "      <th>246</th>\n",
       "      <td>29/out</td>\n",
       "      <td>1108860</td>\n",
       "      <td>5278</td>\n",
       "      <td>112.0</td>\n",
       "    </tr>\n",
       "    <tr>\n",
       "      <th>247</th>\n",
       "      <td>30/out</td>\n",
       "      <td>1113788</td>\n",
       "      <td>4928</td>\n",
       "      <td>136.0</td>\n",
       "    </tr>\n",
       "    <tr>\n",
       "      <th>248</th>\n",
       "      <td>31/out</td>\n",
       "      <td>1116127</td>\n",
       "      <td>2339</td>\n",
       "      <td>56.0</td>\n",
       "    </tr>\n",
       "  </tbody>\n",
       "</table>\n",
       "<p>229 rows × 4 columns</p>\n",
       "</div>"
      ],
      "text/plain": [
       "       Data  Total de casos  Casos por dia  Óbitos por dia\n",
       "20   17 mar             164             12             1.0\n",
       "21   18 mar             240             76             3.0\n",
       "22   19 mar             286             46             1.0\n",
       "23   20 mar             396            110             4.0\n",
       "24   21 mar             459             63             6.0\n",
       "..      ...             ...            ...             ...\n",
       "244  27/out         1098207           5364           132.0\n",
       "245  28/out         1103582           5375           122.0\n",
       "246  29/out         1108860           5278           112.0\n",
       "247  30/out         1113788           4928           136.0\n",
       "248  31/out         1116127           2339            56.0\n",
       "\n",
       "[229 rows x 4 columns]"
      ]
     },
     "execution_count": 28,
     "metadata": {},
     "output_type": "execute_result"
    }
   ],
   "source": [
    "# Eliminando os valores faltantes (NaN).\n",
    "covid_sp.dropna(inplace=True)\n",
    "covid_sp"
   ]
  },
  {
   "cell_type": "markdown",
   "metadata": {},
   "source": [
    "** Percebe-se que, eliminando-se as linhas que contém NaNs, a primeira linha do dataframe, agora, passa a ser a de índice 20.** "
   ]
  },
  {
   "cell_type": "code",
   "execution_count": 10,
   "metadata": {},
   "outputs": [
    {
     "name": "stdout",
     "output_type": "stream",
     "text": [
      "<class 'pandas.core.frame.DataFrame'>\n",
      "Int64Index: 229 entries, 20 to 248\n",
      "Data columns (total 4 columns):\n",
      " #   Column          Non-Null Count  Dtype  \n",
      "---  ------          --------------  -----  \n",
      " 0   Data            229 non-null    object \n",
      " 1   Total de casos  229 non-null    int64  \n",
      " 2   Casos por dia   229 non-null    int64  \n",
      " 3   Óbitos por dia  229 non-null    float64\n",
      "dtypes: float64(1), int64(2), object(1)\n",
      "memory usage: 8.1+ KB\n"
     ]
    }
   ],
   "source": [
    "# Verificando os tipos das variáveis.\n",
    "covid_sp.info()"
   ]
  },
  {
   "cell_type": "code",
   "execution_count": 11,
   "metadata": {},
   "outputs": [
    {
     "data": {
      "text/plain": [
       "Data               object\n",
       "Total de casos      int64\n",
       "Casos por dia       int64\n",
       "Óbitos por dia    float64\n",
       "dtype: object"
      ]
     },
     "execution_count": 11,
     "metadata": {},
     "output_type": "execute_result"
    }
   ],
   "source": [
    "covid_sp.dtypes"
   ]
  },
  {
   "cell_type": "code",
   "execution_count": 12,
   "metadata": {},
   "outputs": [
    {
     "data": {
      "text/html": [
       "<div>\n",
       "<style scoped>\n",
       "    .dataframe tbody tr th:only-of-type {\n",
       "        vertical-align: middle;\n",
       "    }\n",
       "\n",
       "    .dataframe tbody tr th {\n",
       "        vertical-align: top;\n",
       "    }\n",
       "\n",
       "    .dataframe thead th {\n",
       "        text-align: right;\n",
       "    }\n",
       "</style>\n",
       "<table border=\"1\" class=\"dataframe\">\n",
       "  <thead>\n",
       "    <tr style=\"text-align: right;\">\n",
       "      <th></th>\n",
       "      <th>Data</th>\n",
       "      <th>Total de casos</th>\n",
       "      <th>Casos por dia</th>\n",
       "      <th>Óbitos por dia</th>\n",
       "    </tr>\n",
       "  </thead>\n",
       "  <tbody>\n",
       "    <tr>\n",
       "      <th>20</th>\n",
       "      <td>17 mar</td>\n",
       "      <td>164</td>\n",
       "      <td>12</td>\n",
       "      <td>1.0</td>\n",
       "    </tr>\n",
       "    <tr>\n",
       "      <th>21</th>\n",
       "      <td>18 mar</td>\n",
       "      <td>240</td>\n",
       "      <td>76</td>\n",
       "      <td>3.0</td>\n",
       "    </tr>\n",
       "    <tr>\n",
       "      <th>22</th>\n",
       "      <td>19 mar</td>\n",
       "      <td>286</td>\n",
       "      <td>46</td>\n",
       "      <td>1.0</td>\n",
       "    </tr>\n",
       "    <tr>\n",
       "      <th>23</th>\n",
       "      <td>20 mar</td>\n",
       "      <td>396</td>\n",
       "      <td>110</td>\n",
       "      <td>4.0</td>\n",
       "    </tr>\n",
       "    <tr>\n",
       "      <th>24</th>\n",
       "      <td>21 mar</td>\n",
       "      <td>459</td>\n",
       "      <td>63</td>\n",
       "      <td>6.0</td>\n",
       "    </tr>\n",
       "    <tr>\n",
       "      <th>...</th>\n",
       "      <td>...</td>\n",
       "      <td>...</td>\n",
       "      <td>...</td>\n",
       "      <td>...</td>\n",
       "    </tr>\n",
       "    <tr>\n",
       "      <th>244</th>\n",
       "      <td>27/out</td>\n",
       "      <td>1098207</td>\n",
       "      <td>5364</td>\n",
       "      <td>132.0</td>\n",
       "    </tr>\n",
       "    <tr>\n",
       "      <th>245</th>\n",
       "      <td>28/out</td>\n",
       "      <td>1103582</td>\n",
       "      <td>5375</td>\n",
       "      <td>122.0</td>\n",
       "    </tr>\n",
       "    <tr>\n",
       "      <th>246</th>\n",
       "      <td>29/out</td>\n",
       "      <td>1108860</td>\n",
       "      <td>5278</td>\n",
       "      <td>112.0</td>\n",
       "    </tr>\n",
       "    <tr>\n",
       "      <th>247</th>\n",
       "      <td>30/out</td>\n",
       "      <td>1113788</td>\n",
       "      <td>4928</td>\n",
       "      <td>136.0</td>\n",
       "    </tr>\n",
       "    <tr>\n",
       "      <th>248</th>\n",
       "      <td>31/out</td>\n",
       "      <td>1116127</td>\n",
       "      <td>2339</td>\n",
       "      <td>56.0</td>\n",
       "    </tr>\n",
       "  </tbody>\n",
       "</table>\n",
       "<p>229 rows × 4 columns</p>\n",
       "</div>"
      ],
      "text/plain": [
       "       Data  Total de casos  Casos por dia  Óbitos por dia\n",
       "20   17 mar             164             12             1.0\n",
       "21   18 mar             240             76             3.0\n",
       "22   19 mar             286             46             1.0\n",
       "23   20 mar             396            110             4.0\n",
       "24   21 mar             459             63             6.0\n",
       "..      ...             ...            ...             ...\n",
       "244  27/out         1098207           5364           132.0\n",
       "245  28/out         1103582           5375           122.0\n",
       "246  29/out         1108860           5278           112.0\n",
       "247  30/out         1113788           4928           136.0\n",
       "248  31/out         1116127           2339            56.0\n",
       "\n",
       "[229 rows x 4 columns]"
      ]
     },
     "execution_count": 12,
     "metadata": {},
     "output_type": "execute_result"
    }
   ],
   "source": [
    "covid_sp"
   ]
  },
  {
   "cell_type": "markdown",
   "metadata": {},
   "source": [
    "### Criando os gráficos"
   ]
  },
  {
   "cell_type": "code",
   "execution_count": 13,
   "metadata": {},
   "outputs": [
    {
     "data": {
      "application/vnd.plotly.v1+json": {
       "config": {
        "linkText": "Export to plot.ly",
        "plotlyServerURL": "https://plot.ly",
        "showLink": false
       },
       "data": [
        {
         "mode": "markers",
         "type": "scatter",
         "x": [
          "17 mar",
          "18 mar",
          "19 mar",
          "20 mar",
          "21 mar",
          "22 mar",
          "23 mar",
          "24 mar",
          "25 mar",
          "26 mar",
          "27 mar",
          "28 mar",
          "29 mar",
          "30 mar",
          "31 mar",
          "01 abr",
          "02 abr",
          "03 abr",
          "04 abr",
          "05 abr",
          "06 abr",
          "07 abr",
          "08 abr",
          "09 abr",
          "10 abr",
          "11 abr",
          "12 abr",
          "13 abr",
          "14 abr",
          "15 abr",
          "16 abr",
          "17 abr",
          "18 abr",
          "19 abr",
          "20 abr",
          "21 abr",
          "22 abr",
          "23 abr",
          "24 abr",
          "25 abr",
          "26 abr",
          "27 abr",
          "28 abr",
          "29 abr",
          "30 abr",
          "01 mai",
          "02 mai",
          "03 mai",
          "04 mai",
          "05 mai",
          "06 mai",
          "07 mai",
          "08 mai",
          "09 mai",
          "10 mai",
          "11 mai",
          "12 mai",
          "13 mai",
          "14 mai",
          "15 mai",
          "16 mai",
          "17 mai",
          "18 mai",
          "19 mai",
          "20 mai",
          "21 mai",
          "22 mai",
          "23 mai",
          "24 mai",
          "25 mai",
          "26 mai",
          "27 mai",
          "28 mai",
          "29 mai",
          "30 mai",
          "31 mai",
          "01 jun",
          "02 jun",
          "03 jun",
          "04 jun",
          "05 jun",
          "06 jun",
          "07 jun",
          "08 jun",
          "09 jun",
          "10 jun",
          "11 jun",
          "12 jun",
          "13 jun",
          "14 jun",
          "15 jun",
          "16 jun",
          "17 jun",
          "18 jun",
          "19 jun",
          "20 jun",
          "21 jun",
          "22 jun",
          "23 jun",
          "24 jun",
          "25 jun",
          "26 jun",
          "27 jun",
          "28 jun",
          "29 jun",
          "30 jun",
          "01/jul",
          "02/jul",
          "03/jul",
          "04/jul",
          "05/jul",
          "06/jul",
          "07/jul",
          "08/jul",
          "09/jul",
          "10/jul",
          "11/jul",
          "12/jul",
          "13/jul",
          "14/jul",
          "15/jul",
          "16/jul",
          "17/jul",
          "18/jul",
          "19/jul",
          "20/jul",
          "21/jul",
          "22/jul",
          "23/jul",
          "24/jul",
          "25/jul",
          "26/jul",
          "27/jul",
          "28/jul",
          "29/jul",
          "30/jul",
          "31/jul",
          "01/ago",
          "02/ago",
          "03/ago",
          "04/ago",
          "05/ago",
          "06/ago",
          "07/ago",
          "08/ago",
          "09/ago",
          "10/ago",
          "11/ago",
          "12/ago",
          "13/ago",
          "14/ago",
          "15/ago",
          "16/ago",
          "17/ago",
          "18/ago",
          "19/ago",
          "20/ago",
          "21/ago",
          "22/ago",
          "23/ago",
          "24/ago",
          "25/ago",
          "26/ago",
          "27/ago",
          "28/ago",
          "29/ago",
          "30/ago",
          "31/ago",
          "01/set",
          "02/set",
          "03/set",
          "04/set",
          "05/set",
          "06/set",
          "07/set",
          "08/set",
          "09/set",
          "10/set",
          "11/set",
          "12/set",
          "13/set",
          "14/set",
          "15/set",
          "16/set",
          "17/set",
          "18/set",
          "19/set",
          "20/set",
          "21/set",
          "22/set",
          "23/set",
          "24/set",
          "25/set",
          "26/set",
          "27/set",
          "28/set",
          "29/set",
          "30/set",
          "01/out",
          "02/out",
          "03/out",
          "04/out",
          "05/out",
          "06/out",
          "07/out",
          "08/out",
          "09/out",
          "10/out",
          "11/out",
          "12/out",
          "13/out",
          "14/out",
          "15/out",
          "16/out",
          "17/out",
          "18/out",
          "19/out",
          "20/out",
          "21/out",
          "22/out",
          "23/out",
          "24/out",
          "25/out",
          "26/out",
          "27/out",
          "28/out",
          "29/out",
          "30/out",
          "31/out"
         ],
         "y": [
          164,
          240,
          286,
          396,
          459,
          631,
          745,
          810,
          862,
          1052,
          1223,
          1406,
          1451,
          1517,
          2339,
          2981,
          3506,
          4048,
          4466,
          4620,
          4861,
          5682,
          6708,
          7480,
          8216,
          8419,
          8755,
          8895,
          9371,
          11043,
          11568,
          12841,
          13894,
          14267,
          14580,
          15385,
          15914,
          16740,
          17826,
          20004,
          20715,
          21696,
          24041,
          26158,
          28698,
          30374,
          31174,
          31772,
          32187,
          34053,
          37853,
          39928,
          41830,
          44411,
          45444,
          46131,
          47719,
          51097,
          54286,
          58378,
          61183,
          62345,
          63066,
          65995,
          69859,
          73739,
          76871,
          80558,
          82161,
          83625,
          86017,
          89483,
          95865,
          101556,
          107142,
          109698,
          111296,
          118295,
          123483,
          129200,
          134565,
          140549,
          143073,
          144593,
          150138,
          156316,
          162520,
          167900,
          172875,
          178202,
          181460,
          190285,
          191517,
          192628,
          211658,
          215793,
          219185,
          221973,
          229475,
          238822,
          248587,
          258508,
          265581,
          271737,
          275145,
          281380,
          289935,
          302179,
          310517,
          312530,
          320179,
          323070,
          332708,
          341365,
          349715,
          359110,
          366890,
          371997,
          374607,
          386607,
          393176,
          402048,
          407415,
          412027,
          415049,
          416434,
          422669,
          439446,
          452007,
          463218,
          479481,
          483982,
          487654,
          500301,
          514197,
          529006,
          542304,
          552318,
          558685,
          560218,
          575589,
          585265,
          598670,
          608379,
          621731,
          627126,
          628415,
          639562,
          655181,
          674455,
          686122,
          697530,
          699493,
          702665,
          711530,
          721377,
          730828,
          735960,
          749244,
          754129,
          756480,
          765670,
          776135,
          784453,
          796209,
          801422,
          803404,
          804342,
          814375,
          826331,
          837978,
          845016,
          853085,
          855722,
          857330,
          858783,
          866576,
          874754,
          882809,
          890690,
          892257,
          893349,
          901271,
          909428,
          916821,
          924532,
          931673,
          935300,
          937332,
          945422,
          951973,
          958240,
          964921,
          970888,
          972237,
          973142,
          979519,
          985628,
          991725,
          997333,
          1003429,
          1003902,
          1004579,
          1010839,
          1016755,
          1022404,
          1028190,
          1034816,
          1037660,
          1038344,
          1039029,
          1045060,
          1051613,
          1057240,
          1062634,
          1063602,
          1064039,
          1068962,
          1073261,
          1076939,
          1083641,
          1089255,
          1091980,
          1092843,
          1098207,
          1103582,
          1108860,
          1113788,
          1116127
         ]
        }
       ],
       "layout": {
        "template": {
         "data": {
          "bar": [
           {
            "error_x": {
             "color": "#2a3f5f"
            },
            "error_y": {
             "color": "#2a3f5f"
            },
            "marker": {
             "line": {
              "color": "#E5ECF6",
              "width": 0.5
             }
            },
            "type": "bar"
           }
          ],
          "barpolar": [
           {
            "marker": {
             "line": {
              "color": "#E5ECF6",
              "width": 0.5
             }
            },
            "type": "barpolar"
           }
          ],
          "carpet": [
           {
            "aaxis": {
             "endlinecolor": "#2a3f5f",
             "gridcolor": "white",
             "linecolor": "white",
             "minorgridcolor": "white",
             "startlinecolor": "#2a3f5f"
            },
            "baxis": {
             "endlinecolor": "#2a3f5f",
             "gridcolor": "white",
             "linecolor": "white",
             "minorgridcolor": "white",
             "startlinecolor": "#2a3f5f"
            },
            "type": "carpet"
           }
          ],
          "choropleth": [
           {
            "colorbar": {
             "outlinewidth": 0,
             "ticks": ""
            },
            "type": "choropleth"
           }
          ],
          "contour": [
           {
            "colorbar": {
             "outlinewidth": 0,
             "ticks": ""
            },
            "colorscale": [
             [
              0,
              "#0d0887"
             ],
             [
              0.1111111111111111,
              "#46039f"
             ],
             [
              0.2222222222222222,
              "#7201a8"
             ],
             [
              0.3333333333333333,
              "#9c179e"
             ],
             [
              0.4444444444444444,
              "#bd3786"
             ],
             [
              0.5555555555555556,
              "#d8576b"
             ],
             [
              0.6666666666666666,
              "#ed7953"
             ],
             [
              0.7777777777777778,
              "#fb9f3a"
             ],
             [
              0.8888888888888888,
              "#fdca26"
             ],
             [
              1,
              "#f0f921"
             ]
            ],
            "type": "contour"
           }
          ],
          "contourcarpet": [
           {
            "colorbar": {
             "outlinewidth": 0,
             "ticks": ""
            },
            "type": "contourcarpet"
           }
          ],
          "heatmap": [
           {
            "colorbar": {
             "outlinewidth": 0,
             "ticks": ""
            },
            "colorscale": [
             [
              0,
              "#0d0887"
             ],
             [
              0.1111111111111111,
              "#46039f"
             ],
             [
              0.2222222222222222,
              "#7201a8"
             ],
             [
              0.3333333333333333,
              "#9c179e"
             ],
             [
              0.4444444444444444,
              "#bd3786"
             ],
             [
              0.5555555555555556,
              "#d8576b"
             ],
             [
              0.6666666666666666,
              "#ed7953"
             ],
             [
              0.7777777777777778,
              "#fb9f3a"
             ],
             [
              0.8888888888888888,
              "#fdca26"
             ],
             [
              1,
              "#f0f921"
             ]
            ],
            "type": "heatmap"
           }
          ],
          "heatmapgl": [
           {
            "colorbar": {
             "outlinewidth": 0,
             "ticks": ""
            },
            "colorscale": [
             [
              0,
              "#0d0887"
             ],
             [
              0.1111111111111111,
              "#46039f"
             ],
             [
              0.2222222222222222,
              "#7201a8"
             ],
             [
              0.3333333333333333,
              "#9c179e"
             ],
             [
              0.4444444444444444,
              "#bd3786"
             ],
             [
              0.5555555555555556,
              "#d8576b"
             ],
             [
              0.6666666666666666,
              "#ed7953"
             ],
             [
              0.7777777777777778,
              "#fb9f3a"
             ],
             [
              0.8888888888888888,
              "#fdca26"
             ],
             [
              1,
              "#f0f921"
             ]
            ],
            "type": "heatmapgl"
           }
          ],
          "histogram": [
           {
            "marker": {
             "colorbar": {
              "outlinewidth": 0,
              "ticks": ""
             }
            },
            "type": "histogram"
           }
          ],
          "histogram2d": [
           {
            "colorbar": {
             "outlinewidth": 0,
             "ticks": ""
            },
            "colorscale": [
             [
              0,
              "#0d0887"
             ],
             [
              0.1111111111111111,
              "#46039f"
             ],
             [
              0.2222222222222222,
              "#7201a8"
             ],
             [
              0.3333333333333333,
              "#9c179e"
             ],
             [
              0.4444444444444444,
              "#bd3786"
             ],
             [
              0.5555555555555556,
              "#d8576b"
             ],
             [
              0.6666666666666666,
              "#ed7953"
             ],
             [
              0.7777777777777778,
              "#fb9f3a"
             ],
             [
              0.8888888888888888,
              "#fdca26"
             ],
             [
              1,
              "#f0f921"
             ]
            ],
            "type": "histogram2d"
           }
          ],
          "histogram2dcontour": [
           {
            "colorbar": {
             "outlinewidth": 0,
             "ticks": ""
            },
            "colorscale": [
             [
              0,
              "#0d0887"
             ],
             [
              0.1111111111111111,
              "#46039f"
             ],
             [
              0.2222222222222222,
              "#7201a8"
             ],
             [
              0.3333333333333333,
              "#9c179e"
             ],
             [
              0.4444444444444444,
              "#bd3786"
             ],
             [
              0.5555555555555556,
              "#d8576b"
             ],
             [
              0.6666666666666666,
              "#ed7953"
             ],
             [
              0.7777777777777778,
              "#fb9f3a"
             ],
             [
              0.8888888888888888,
              "#fdca26"
             ],
             [
              1,
              "#f0f921"
             ]
            ],
            "type": "histogram2dcontour"
           }
          ],
          "mesh3d": [
           {
            "colorbar": {
             "outlinewidth": 0,
             "ticks": ""
            },
            "type": "mesh3d"
           }
          ],
          "parcoords": [
           {
            "line": {
             "colorbar": {
              "outlinewidth": 0,
              "ticks": ""
             }
            },
            "type": "parcoords"
           }
          ],
          "pie": [
           {
            "automargin": true,
            "type": "pie"
           }
          ],
          "scatter": [
           {
            "marker": {
             "colorbar": {
              "outlinewidth": 0,
              "ticks": ""
             }
            },
            "type": "scatter"
           }
          ],
          "scatter3d": [
           {
            "line": {
             "colorbar": {
              "outlinewidth": 0,
              "ticks": ""
             }
            },
            "marker": {
             "colorbar": {
              "outlinewidth": 0,
              "ticks": ""
             }
            },
            "type": "scatter3d"
           }
          ],
          "scattercarpet": [
           {
            "marker": {
             "colorbar": {
              "outlinewidth": 0,
              "ticks": ""
             }
            },
            "type": "scattercarpet"
           }
          ],
          "scattergeo": [
           {
            "marker": {
             "colorbar": {
              "outlinewidth": 0,
              "ticks": ""
             }
            },
            "type": "scattergeo"
           }
          ],
          "scattergl": [
           {
            "marker": {
             "colorbar": {
              "outlinewidth": 0,
              "ticks": ""
             }
            },
            "type": "scattergl"
           }
          ],
          "scattermapbox": [
           {
            "marker": {
             "colorbar": {
              "outlinewidth": 0,
              "ticks": ""
             }
            },
            "type": "scattermapbox"
           }
          ],
          "scatterpolar": [
           {
            "marker": {
             "colorbar": {
              "outlinewidth": 0,
              "ticks": ""
             }
            },
            "type": "scatterpolar"
           }
          ],
          "scatterpolargl": [
           {
            "marker": {
             "colorbar": {
              "outlinewidth": 0,
              "ticks": ""
             }
            },
            "type": "scatterpolargl"
           }
          ],
          "scatterternary": [
           {
            "marker": {
             "colorbar": {
              "outlinewidth": 0,
              "ticks": ""
             }
            },
            "type": "scatterternary"
           }
          ],
          "surface": [
           {
            "colorbar": {
             "outlinewidth": 0,
             "ticks": ""
            },
            "colorscale": [
             [
              0,
              "#0d0887"
             ],
             [
              0.1111111111111111,
              "#46039f"
             ],
             [
              0.2222222222222222,
              "#7201a8"
             ],
             [
              0.3333333333333333,
              "#9c179e"
             ],
             [
              0.4444444444444444,
              "#bd3786"
             ],
             [
              0.5555555555555556,
              "#d8576b"
             ],
             [
              0.6666666666666666,
              "#ed7953"
             ],
             [
              0.7777777777777778,
              "#fb9f3a"
             ],
             [
              0.8888888888888888,
              "#fdca26"
             ],
             [
              1,
              "#f0f921"
             ]
            ],
            "type": "surface"
           }
          ],
          "table": [
           {
            "cells": {
             "fill": {
              "color": "#EBF0F8"
             },
             "line": {
              "color": "white"
             }
            },
            "header": {
             "fill": {
              "color": "#C8D4E3"
             },
             "line": {
              "color": "white"
             }
            },
            "type": "table"
           }
          ]
         },
         "layout": {
          "annotationdefaults": {
           "arrowcolor": "#2a3f5f",
           "arrowhead": 0,
           "arrowwidth": 1
          },
          "coloraxis": {
           "colorbar": {
            "outlinewidth": 0,
            "ticks": ""
           }
          },
          "colorscale": {
           "diverging": [
            [
             0,
             "#8e0152"
            ],
            [
             0.1,
             "#c51b7d"
            ],
            [
             0.2,
             "#de77ae"
            ],
            [
             0.3,
             "#f1b6da"
            ],
            [
             0.4,
             "#fde0ef"
            ],
            [
             0.5,
             "#f7f7f7"
            ],
            [
             0.6,
             "#e6f5d0"
            ],
            [
             0.7,
             "#b8e186"
            ],
            [
             0.8,
             "#7fbc41"
            ],
            [
             0.9,
             "#4d9221"
            ],
            [
             1,
             "#276419"
            ]
           ],
           "sequential": [
            [
             0,
             "#0d0887"
            ],
            [
             0.1111111111111111,
             "#46039f"
            ],
            [
             0.2222222222222222,
             "#7201a8"
            ],
            [
             0.3333333333333333,
             "#9c179e"
            ],
            [
             0.4444444444444444,
             "#bd3786"
            ],
            [
             0.5555555555555556,
             "#d8576b"
            ],
            [
             0.6666666666666666,
             "#ed7953"
            ],
            [
             0.7777777777777778,
             "#fb9f3a"
            ],
            [
             0.8888888888888888,
             "#fdca26"
            ],
            [
             1,
             "#f0f921"
            ]
           ],
           "sequentialminus": [
            [
             0,
             "#0d0887"
            ],
            [
             0.1111111111111111,
             "#46039f"
            ],
            [
             0.2222222222222222,
             "#7201a8"
            ],
            [
             0.3333333333333333,
             "#9c179e"
            ],
            [
             0.4444444444444444,
             "#bd3786"
            ],
            [
             0.5555555555555556,
             "#d8576b"
            ],
            [
             0.6666666666666666,
             "#ed7953"
            ],
            [
             0.7777777777777778,
             "#fb9f3a"
            ],
            [
             0.8888888888888888,
             "#fdca26"
            ],
            [
             1,
             "#f0f921"
            ]
           ]
          },
          "colorway": [
           "#636efa",
           "#EF553B",
           "#00cc96",
           "#ab63fa",
           "#FFA15A",
           "#19d3f3",
           "#FF6692",
           "#B6E880",
           "#FF97FF",
           "#FECB52"
          ],
          "font": {
           "color": "#2a3f5f"
          },
          "geo": {
           "bgcolor": "white",
           "lakecolor": "white",
           "landcolor": "#E5ECF6",
           "showlakes": true,
           "showland": true,
           "subunitcolor": "white"
          },
          "hoverlabel": {
           "align": "left"
          },
          "hovermode": "closest",
          "mapbox": {
           "style": "light"
          },
          "paper_bgcolor": "white",
          "plot_bgcolor": "#E5ECF6",
          "polar": {
           "angularaxis": {
            "gridcolor": "white",
            "linecolor": "white",
            "ticks": ""
           },
           "bgcolor": "#E5ECF6",
           "radialaxis": {
            "gridcolor": "white",
            "linecolor": "white",
            "ticks": ""
           }
          },
          "scene": {
           "xaxis": {
            "backgroundcolor": "#E5ECF6",
            "gridcolor": "white",
            "gridwidth": 2,
            "linecolor": "white",
            "showbackground": true,
            "ticks": "",
            "zerolinecolor": "white"
           },
           "yaxis": {
            "backgroundcolor": "#E5ECF6",
            "gridcolor": "white",
            "gridwidth": 2,
            "linecolor": "white",
            "showbackground": true,
            "ticks": "",
            "zerolinecolor": "white"
           },
           "zaxis": {
            "backgroundcolor": "#E5ECF6",
            "gridcolor": "white",
            "gridwidth": 2,
            "linecolor": "white",
            "showbackground": true,
            "ticks": "",
            "zerolinecolor": "white"
           }
          },
          "shapedefaults": {
           "line": {
            "color": "#2a3f5f"
           }
          },
          "ternary": {
           "aaxis": {
            "gridcolor": "white",
            "linecolor": "white",
            "ticks": ""
           },
           "baxis": {
            "gridcolor": "white",
            "linecolor": "white",
            "ticks": ""
           },
           "bgcolor": "#E5ECF6",
           "caxis": {
            "gridcolor": "white",
            "linecolor": "white",
            "ticks": ""
           }
          },
          "title": {
           "x": 0.05
          },
          "xaxis": {
           "automargin": true,
           "gridcolor": "white",
           "linecolor": "white",
           "ticks": "",
           "title": {
            "standoff": 15
           },
           "zerolinecolor": "white",
           "zerolinewidth": 2
          },
          "yaxis": {
           "automargin": true,
           "gridcolor": "white",
           "linecolor": "white",
           "ticks": "",
           "title": {
            "standoff": 15
           },
           "zerolinecolor": "white",
           "zerolinewidth": 2
          }
         }
        },
        "title": {
         "text": "Covid-19 no Estado de São Paulo"
        },
        "xaxis": {
         "title": {
          "text": "Tempo"
         }
        },
        "yaxis": {
         "title": {
          "text": "Total de casos"
         }
        }
       }
      },
      "text/html": [
       "<div>\n",
       "        \n",
       "        \n",
       "            <div id=\"2f3232e6-bb9c-4e3e-8a42-dc380dbdf4ae\" class=\"plotly-graph-div\" style=\"height:525px; width:100%;\"></div>\n",
       "            <script type=\"text/javascript\">\n",
       "                require([\"plotly\"], function(Plotly) {\n",
       "                    window.PLOTLYENV=window.PLOTLYENV || {};\n",
       "                    \n",
       "                if (document.getElementById(\"2f3232e6-bb9c-4e3e-8a42-dc380dbdf4ae\")) {\n",
       "                    Plotly.newPlot(\n",
       "                        '2f3232e6-bb9c-4e3e-8a42-dc380dbdf4ae',\n",
       "                        [{\"mode\": \"markers\", \"type\": \"scatter\", \"x\": [\"17 mar\", \"18 mar\", \"19 mar\", \"20 mar\", \"21 mar\", \"22 mar\", \"23 mar\", \"24 mar\", \"25 mar\", \"26 mar\", \"27 mar\", \"28 mar\", \"29 mar\", \"30 mar\", \"31 mar\", \"01 abr\", \"02 abr\", \"03 abr\", \"04 abr\", \"05 abr\", \"06 abr\", \"07 abr\", \"08 abr\", \"09 abr\", \"10 abr\", \"11 abr\", \"12 abr\", \"13 abr\", \"14 abr\", \"15 abr\", \"16 abr\", \"17 abr\", \"18 abr\", \"19 abr\", \"20 abr\", \"21 abr\", \"22 abr\", \"23 abr\", \"24 abr\", \"25 abr\", \"26 abr\", \"27 abr\", \"28 abr\", \"29 abr\", \"30 abr\", \"01 mai\", \"02 mai\", \"03 mai\", \"04 mai\", \"05 mai\", \"06 mai\", \"07 mai\", \"08 mai\", \"09 mai\", \"10 mai\", \"11 mai\", \"12 mai\", \"13 mai\", \"14 mai\", \"15 mai\", \"16 mai\", \"17 mai\", \"18 mai\", \"19 mai\", \"20 mai\", \"21 mai\", \"22 mai\", \"23 mai\", \"24 mai\", \"25 mai\", \"26 mai\", \"27 mai\", \"28 mai\", \"29 mai\", \"30 mai\", \"31 mai\", \"01 jun\", \"02 jun\", \"03 jun\", \"04 jun\", \"05 jun\", \"06 jun\", \"07 jun\", \"08 jun\", \"09 jun\", \"10 jun\", \"11 jun\", \"12 jun\", \"13 jun\", \"14 jun\", \"15 jun\", \"16 jun\", \"17 jun\", \"18 jun\", \"19 jun\", \"20 jun\", \"21 jun\", \"22 jun\", \"23 jun\", \"24 jun\", \"25 jun\", \"26 jun\", \"27 jun\", \"28 jun\", \"29 jun\", \"30 jun\", \"01/jul\", \"02/jul\", \"03/jul\", \"04/jul\", \"05/jul\", \"06/jul\", \"07/jul\", \"08/jul\", \"09/jul\", \"10/jul\", \"11/jul\", \"12/jul\", \"13/jul\", \"14/jul\", \"15/jul\", \"16/jul\", \"17/jul\", \"18/jul\", \"19/jul\", \"20/jul\", \"21/jul\", \"22/jul\", \"23/jul\", \"24/jul\", \"25/jul\", \"26/jul\", \"27/jul\", \"28/jul\", \"29/jul\", \"30/jul\", \"31/jul\", \"01/ago\", \"02/ago\", \"03/ago\", \"04/ago\", \"05/ago\", \"06/ago\", \"07/ago\", \"08/ago\", \"09/ago\", \"10/ago\", \"11/ago\", \"12/ago\", \"13/ago\", \"14/ago\", \"15/ago\", \"16/ago\", \"17/ago\", \"18/ago\", \"19/ago\", \"20/ago\", \"21/ago\", \"22/ago\", \"23/ago\", \"24/ago\", \"25/ago\", \"26/ago\", \"27/ago\", \"28/ago\", \"29/ago\", \"30/ago\", \"31/ago\", \"01/set\", \"02/set\", \"03/set\", \"04/set\", \"05/set\", \"06/set\", \"07/set\", \"08/set\", \"09/set\", \"10/set\", \"11/set\", \"12/set\", \"13/set\", \"14/set\", \"15/set\", \"16/set\", \"17/set\", \"18/set\", \"19/set\", \"20/set\", \"21/set\", \"22/set\", \"23/set\", \"24/set\", \"25/set\", \"26/set\", \"27/set\", \"28/set\", \"29/set\", \"30/set\", \"01/out\", \"02/out\", \"03/out\", \"04/out\", \"05/out\", \"06/out\", \"07/out\", \"08/out\", \"09/out\", \"10/out\", \"11/out\", \"12/out\", \"13/out\", \"14/out\", \"15/out\", \"16/out\", \"17/out\", \"18/out\", \"19/out\", \"20/out\", \"21/out\", \"22/out\", \"23/out\", \"24/out\", \"25/out\", \"26/out\", \"27/out\", \"28/out\", \"29/out\", \"30/out\", \"31/out\"], \"y\": [164, 240, 286, 396, 459, 631, 745, 810, 862, 1052, 1223, 1406, 1451, 1517, 2339, 2981, 3506, 4048, 4466, 4620, 4861, 5682, 6708, 7480, 8216, 8419, 8755, 8895, 9371, 11043, 11568, 12841, 13894, 14267, 14580, 15385, 15914, 16740, 17826, 20004, 20715, 21696, 24041, 26158, 28698, 30374, 31174, 31772, 32187, 34053, 37853, 39928, 41830, 44411, 45444, 46131, 47719, 51097, 54286, 58378, 61183, 62345, 63066, 65995, 69859, 73739, 76871, 80558, 82161, 83625, 86017, 89483, 95865, 101556, 107142, 109698, 111296, 118295, 123483, 129200, 134565, 140549, 143073, 144593, 150138, 156316, 162520, 167900, 172875, 178202, 181460, 190285, 191517, 192628, 211658, 215793, 219185, 221973, 229475, 238822, 248587, 258508, 265581, 271737, 275145, 281380, 289935, 302179, 310517, 312530, 320179, 323070, 332708, 341365, 349715, 359110, 366890, 371997, 374607, 386607, 393176, 402048, 407415, 412027, 415049, 416434, 422669, 439446, 452007, 463218, 479481, 483982, 487654, 500301, 514197, 529006, 542304, 552318, 558685, 560218, 575589, 585265, 598670, 608379, 621731, 627126, 628415, 639562, 655181, 674455, 686122, 697530, 699493, 702665, 711530, 721377, 730828, 735960, 749244, 754129, 756480, 765670, 776135, 784453, 796209, 801422, 803404, 804342, 814375, 826331, 837978, 845016, 853085, 855722, 857330, 858783, 866576, 874754, 882809, 890690, 892257, 893349, 901271, 909428, 916821, 924532, 931673, 935300, 937332, 945422, 951973, 958240, 964921, 970888, 972237, 973142, 979519, 985628, 991725, 997333, 1003429, 1003902, 1004579, 1010839, 1016755, 1022404, 1028190, 1034816, 1037660, 1038344, 1039029, 1045060, 1051613, 1057240, 1062634, 1063602, 1064039, 1068962, 1073261, 1076939, 1083641, 1089255, 1091980, 1092843, 1098207, 1103582, 1108860, 1113788, 1116127]}],\n",
       "                        {\"template\": {\"data\": {\"bar\": [{\"error_x\": {\"color\": \"#2a3f5f\"}, \"error_y\": {\"color\": \"#2a3f5f\"}, \"marker\": {\"line\": {\"color\": \"#E5ECF6\", \"width\": 0.5}}, \"type\": \"bar\"}], \"barpolar\": [{\"marker\": {\"line\": {\"color\": \"#E5ECF6\", \"width\": 0.5}}, \"type\": \"barpolar\"}], \"carpet\": [{\"aaxis\": {\"endlinecolor\": \"#2a3f5f\", \"gridcolor\": \"white\", \"linecolor\": \"white\", \"minorgridcolor\": \"white\", \"startlinecolor\": \"#2a3f5f\"}, \"baxis\": {\"endlinecolor\": \"#2a3f5f\", \"gridcolor\": \"white\", \"linecolor\": \"white\", \"minorgridcolor\": \"white\", \"startlinecolor\": \"#2a3f5f\"}, \"type\": \"carpet\"}], \"choropleth\": [{\"colorbar\": {\"outlinewidth\": 0, \"ticks\": \"\"}, \"type\": \"choropleth\"}], \"contour\": [{\"colorbar\": {\"outlinewidth\": 0, \"ticks\": \"\"}, \"colorscale\": [[0.0, \"#0d0887\"], [0.1111111111111111, \"#46039f\"], [0.2222222222222222, \"#7201a8\"], [0.3333333333333333, \"#9c179e\"], [0.4444444444444444, \"#bd3786\"], [0.5555555555555556, \"#d8576b\"], [0.6666666666666666, \"#ed7953\"], [0.7777777777777778, \"#fb9f3a\"], [0.8888888888888888, \"#fdca26\"], [1.0, \"#f0f921\"]], \"type\": \"contour\"}], \"contourcarpet\": [{\"colorbar\": {\"outlinewidth\": 0, \"ticks\": \"\"}, \"type\": \"contourcarpet\"}], \"heatmap\": [{\"colorbar\": {\"outlinewidth\": 0, \"ticks\": \"\"}, \"colorscale\": [[0.0, \"#0d0887\"], [0.1111111111111111, \"#46039f\"], [0.2222222222222222, \"#7201a8\"], [0.3333333333333333, \"#9c179e\"], [0.4444444444444444, \"#bd3786\"], [0.5555555555555556, \"#d8576b\"], [0.6666666666666666, \"#ed7953\"], [0.7777777777777778, \"#fb9f3a\"], [0.8888888888888888, \"#fdca26\"], [1.0, \"#f0f921\"]], \"type\": \"heatmap\"}], \"heatmapgl\": [{\"colorbar\": {\"outlinewidth\": 0, \"ticks\": \"\"}, \"colorscale\": [[0.0, \"#0d0887\"], [0.1111111111111111, \"#46039f\"], [0.2222222222222222, \"#7201a8\"], [0.3333333333333333, \"#9c179e\"], [0.4444444444444444, \"#bd3786\"], [0.5555555555555556, \"#d8576b\"], [0.6666666666666666, \"#ed7953\"], [0.7777777777777778, \"#fb9f3a\"], [0.8888888888888888, \"#fdca26\"], [1.0, \"#f0f921\"]], \"type\": \"heatmapgl\"}], \"histogram\": [{\"marker\": {\"colorbar\": {\"outlinewidth\": 0, \"ticks\": \"\"}}, \"type\": \"histogram\"}], \"histogram2d\": [{\"colorbar\": {\"outlinewidth\": 0, \"ticks\": \"\"}, \"colorscale\": [[0.0, \"#0d0887\"], [0.1111111111111111, \"#46039f\"], [0.2222222222222222, \"#7201a8\"], [0.3333333333333333, \"#9c179e\"], [0.4444444444444444, \"#bd3786\"], [0.5555555555555556, \"#d8576b\"], [0.6666666666666666, \"#ed7953\"], [0.7777777777777778, \"#fb9f3a\"], [0.8888888888888888, \"#fdca26\"], [1.0, \"#f0f921\"]], \"type\": \"histogram2d\"}], \"histogram2dcontour\": [{\"colorbar\": {\"outlinewidth\": 0, \"ticks\": \"\"}, \"colorscale\": [[0.0, \"#0d0887\"], [0.1111111111111111, \"#46039f\"], [0.2222222222222222, \"#7201a8\"], [0.3333333333333333, \"#9c179e\"], [0.4444444444444444, \"#bd3786\"], [0.5555555555555556, \"#d8576b\"], [0.6666666666666666, \"#ed7953\"], [0.7777777777777778, \"#fb9f3a\"], [0.8888888888888888, \"#fdca26\"], [1.0, \"#f0f921\"]], \"type\": \"histogram2dcontour\"}], \"mesh3d\": [{\"colorbar\": {\"outlinewidth\": 0, \"ticks\": \"\"}, \"type\": \"mesh3d\"}], \"parcoords\": [{\"line\": {\"colorbar\": {\"outlinewidth\": 0, \"ticks\": \"\"}}, \"type\": \"parcoords\"}], \"pie\": [{\"automargin\": true, \"type\": \"pie\"}], \"scatter\": [{\"marker\": {\"colorbar\": {\"outlinewidth\": 0, \"ticks\": \"\"}}, \"type\": \"scatter\"}], \"scatter3d\": [{\"line\": {\"colorbar\": {\"outlinewidth\": 0, \"ticks\": \"\"}}, \"marker\": {\"colorbar\": {\"outlinewidth\": 0, \"ticks\": \"\"}}, \"type\": \"scatter3d\"}], \"scattercarpet\": [{\"marker\": {\"colorbar\": {\"outlinewidth\": 0, \"ticks\": \"\"}}, \"type\": \"scattercarpet\"}], \"scattergeo\": [{\"marker\": {\"colorbar\": {\"outlinewidth\": 0, \"ticks\": \"\"}}, \"type\": \"scattergeo\"}], \"scattergl\": [{\"marker\": {\"colorbar\": {\"outlinewidth\": 0, \"ticks\": \"\"}}, \"type\": \"scattergl\"}], \"scattermapbox\": [{\"marker\": {\"colorbar\": {\"outlinewidth\": 0, \"ticks\": \"\"}}, \"type\": \"scattermapbox\"}], \"scatterpolar\": [{\"marker\": {\"colorbar\": {\"outlinewidth\": 0, \"ticks\": \"\"}}, \"type\": \"scatterpolar\"}], \"scatterpolargl\": [{\"marker\": {\"colorbar\": {\"outlinewidth\": 0, \"ticks\": \"\"}}, \"type\": \"scatterpolargl\"}], \"scatterternary\": [{\"marker\": {\"colorbar\": {\"outlinewidth\": 0, \"ticks\": \"\"}}, \"type\": \"scatterternary\"}], \"surface\": [{\"colorbar\": {\"outlinewidth\": 0, \"ticks\": \"\"}, \"colorscale\": [[0.0, \"#0d0887\"], [0.1111111111111111, \"#46039f\"], [0.2222222222222222, \"#7201a8\"], [0.3333333333333333, \"#9c179e\"], [0.4444444444444444, \"#bd3786\"], [0.5555555555555556, \"#d8576b\"], [0.6666666666666666, \"#ed7953\"], [0.7777777777777778, \"#fb9f3a\"], [0.8888888888888888, \"#fdca26\"], [1.0, \"#f0f921\"]], \"type\": \"surface\"}], \"table\": [{\"cells\": {\"fill\": {\"color\": \"#EBF0F8\"}, \"line\": {\"color\": \"white\"}}, \"header\": {\"fill\": {\"color\": \"#C8D4E3\"}, \"line\": {\"color\": \"white\"}}, \"type\": \"table\"}]}, \"layout\": {\"annotationdefaults\": {\"arrowcolor\": \"#2a3f5f\", \"arrowhead\": 0, \"arrowwidth\": 1}, \"coloraxis\": {\"colorbar\": {\"outlinewidth\": 0, \"ticks\": \"\"}}, \"colorscale\": {\"diverging\": [[0, \"#8e0152\"], [0.1, \"#c51b7d\"], [0.2, \"#de77ae\"], [0.3, \"#f1b6da\"], [0.4, \"#fde0ef\"], [0.5, \"#f7f7f7\"], [0.6, \"#e6f5d0\"], [0.7, \"#b8e186\"], [0.8, \"#7fbc41\"], [0.9, \"#4d9221\"], [1, \"#276419\"]], \"sequential\": [[0.0, \"#0d0887\"], [0.1111111111111111, \"#46039f\"], [0.2222222222222222, \"#7201a8\"], [0.3333333333333333, \"#9c179e\"], [0.4444444444444444, \"#bd3786\"], [0.5555555555555556, \"#d8576b\"], [0.6666666666666666, \"#ed7953\"], [0.7777777777777778, \"#fb9f3a\"], [0.8888888888888888, \"#fdca26\"], [1.0, \"#f0f921\"]], \"sequentialminus\": [[0.0, \"#0d0887\"], [0.1111111111111111, \"#46039f\"], [0.2222222222222222, \"#7201a8\"], [0.3333333333333333, \"#9c179e\"], [0.4444444444444444, \"#bd3786\"], [0.5555555555555556, \"#d8576b\"], [0.6666666666666666, \"#ed7953\"], [0.7777777777777778, \"#fb9f3a\"], [0.8888888888888888, \"#fdca26\"], [1.0, \"#f0f921\"]]}, \"colorway\": [\"#636efa\", \"#EF553B\", \"#00cc96\", \"#ab63fa\", \"#FFA15A\", \"#19d3f3\", \"#FF6692\", \"#B6E880\", \"#FF97FF\", \"#FECB52\"], \"font\": {\"color\": \"#2a3f5f\"}, \"geo\": {\"bgcolor\": \"white\", \"lakecolor\": \"white\", \"landcolor\": \"#E5ECF6\", \"showlakes\": true, \"showland\": true, \"subunitcolor\": \"white\"}, \"hoverlabel\": {\"align\": \"left\"}, \"hovermode\": \"closest\", \"mapbox\": {\"style\": \"light\"}, \"paper_bgcolor\": \"white\", \"plot_bgcolor\": \"#E5ECF6\", \"polar\": {\"angularaxis\": {\"gridcolor\": \"white\", \"linecolor\": \"white\", \"ticks\": \"\"}, \"bgcolor\": \"#E5ECF6\", \"radialaxis\": {\"gridcolor\": \"white\", \"linecolor\": \"white\", \"ticks\": \"\"}}, \"scene\": {\"xaxis\": {\"backgroundcolor\": \"#E5ECF6\", \"gridcolor\": \"white\", \"gridwidth\": 2, \"linecolor\": \"white\", \"showbackground\": true, \"ticks\": \"\", \"zerolinecolor\": \"white\"}, \"yaxis\": {\"backgroundcolor\": \"#E5ECF6\", \"gridcolor\": \"white\", \"gridwidth\": 2, \"linecolor\": \"white\", \"showbackground\": true, \"ticks\": \"\", \"zerolinecolor\": \"white\"}, \"zaxis\": {\"backgroundcolor\": \"#E5ECF6\", \"gridcolor\": \"white\", \"gridwidth\": 2, \"linecolor\": \"white\", \"showbackground\": true, \"ticks\": \"\", \"zerolinecolor\": \"white\"}}, \"shapedefaults\": {\"line\": {\"color\": \"#2a3f5f\"}}, \"ternary\": {\"aaxis\": {\"gridcolor\": \"white\", \"linecolor\": \"white\", \"ticks\": \"\"}, \"baxis\": {\"gridcolor\": \"white\", \"linecolor\": \"white\", \"ticks\": \"\"}, \"bgcolor\": \"#E5ECF6\", \"caxis\": {\"gridcolor\": \"white\", \"linecolor\": \"white\", \"ticks\": \"\"}}, \"title\": {\"x\": 0.05}, \"xaxis\": {\"automargin\": true, \"gridcolor\": \"white\", \"linecolor\": \"white\", \"ticks\": \"\", \"title\": {\"standoff\": 15}, \"zerolinecolor\": \"white\", \"zerolinewidth\": 2}, \"yaxis\": {\"automargin\": true, \"gridcolor\": \"white\", \"linecolor\": \"white\", \"ticks\": \"\", \"title\": {\"standoff\": 15}, \"zerolinecolor\": \"white\", \"zerolinewidth\": 2}}}, \"title\": {\"text\": \"Covid-19 no Estado de S\\u00e3o Paulo\"}, \"xaxis\": {\"title\": {\"text\": \"Tempo\"}}, \"yaxis\": {\"title\": {\"text\": \"Total de casos\"}}},\n",
       "                        {\"responsive\": true}\n",
       "                    ).then(function(){\n",
       "                            \n",
       "var gd = document.getElementById('2f3232e6-bb9c-4e3e-8a42-dc380dbdf4ae');\n",
       "var x = new MutationObserver(function (mutations, observer) {{\n",
       "        var display = window.getComputedStyle(gd).display;\n",
       "        if (!display || display === 'none') {{\n",
       "            console.log([gd, 'removed!']);\n",
       "            Plotly.purge(gd);\n",
       "            observer.disconnect();\n",
       "        }}\n",
       "}});\n",
       "\n",
       "// Listen for the removal of the full notebook cells\n",
       "var notebookContainer = gd.closest('#notebook-container');\n",
       "if (notebookContainer) {{\n",
       "    x.observe(notebookContainer, {childList: true});\n",
       "}}\n",
       "\n",
       "// Listen for the clearing of the current output cell\n",
       "var outputEl = gd.closest('.output');\n",
       "if (outputEl) {{\n",
       "    x.observe(outputEl, {childList: true});\n",
       "}}\n",
       "\n",
       "                        })\n",
       "                };\n",
       "                });\n",
       "            </script>\n",
       "        </div>"
      ]
     },
     "metadata": {},
     "output_type": "display_data"
    }
   ],
   "source": [
    "# Criando o gráfico com Plotly.\n",
    "trace = go.Scatter(x = covid_sp['Data'],\n",
    "                   y = covid_sp['Total de casos'],\n",
    "                   mode = 'markers')\n",
    "# Armazenando o gráfico em uma lista.\n",
    "data = [trace]\n",
    "# Criando Layout\n",
    "layout = go.Layout(title='Covid-19 no Estado de São Paulo',\n",
    "                   yaxis={'title':'Total de casos'},\n",
    "                   xaxis={'title': 'Tempo'})\n",
    "# Criando figura que será exibida\n",
    "fig = go.Figure(data=data, layout=layout)\n",
    "# Exibindo figura/gráfico\n",
    "py.iplot(fig)"
   ]
  },
  {
   "cell_type": "code",
   "execution_count": 29,
   "metadata": {},
   "outputs": [
    {
     "data": {
      "application/vnd.plotly.v1+json": {
       "config": {
        "linkText": "Export to plot.ly",
        "plotlyServerURL": "https://plot.ly",
        "showLink": false
       },
       "data": [
        {
         "marker": {
          "color": "#e74c3c",
          "line": {
           "color": "#c0392b",
           "width": 1
          }
         },
         "mode": "markers",
         "opacity": 0.8,
         "type": "scatter",
         "x": [
          "17 mar",
          "18 mar",
          "19 mar",
          "20 mar",
          "21 mar",
          "22 mar",
          "23 mar",
          "24 mar",
          "25 mar",
          "26 mar",
          "27 mar",
          "28 mar",
          "29 mar",
          "30 mar",
          "31 mar",
          "01 abr",
          "02 abr",
          "03 abr",
          "04 abr",
          "05 abr",
          "06 abr",
          "07 abr",
          "08 abr",
          "09 abr",
          "10 abr",
          "11 abr",
          "12 abr",
          "13 abr",
          "14 abr",
          "15 abr",
          "16 abr",
          "17 abr",
          "18 abr",
          "19 abr",
          "20 abr",
          "21 abr",
          "22 abr",
          "23 abr",
          "24 abr",
          "25 abr",
          "26 abr",
          "27 abr",
          "28 abr",
          "29 abr",
          "30 abr",
          "01 mai",
          "02 mai",
          "03 mai",
          "04 mai",
          "05 mai",
          "06 mai",
          "07 mai",
          "08 mai",
          "09 mai",
          "10 mai",
          "11 mai",
          "12 mai",
          "13 mai",
          "14 mai",
          "15 mai",
          "16 mai",
          "17 mai",
          "18 mai",
          "19 mai",
          "20 mai",
          "21 mai",
          "22 mai",
          "23 mai",
          "24 mai",
          "25 mai",
          "26 mai",
          "27 mai",
          "28 mai",
          "29 mai",
          "30 mai",
          "31 mai",
          "01 jun",
          "02 jun",
          "03 jun",
          "04 jun",
          "05 jun",
          "06 jun",
          "07 jun",
          "08 jun",
          "09 jun",
          "10 jun",
          "11 jun",
          "12 jun",
          "13 jun",
          "14 jun",
          "15 jun",
          "16 jun",
          "17 jun",
          "18 jun",
          "19 jun",
          "20 jun",
          "21 jun",
          "22 jun",
          "23 jun",
          "24 jun",
          "25 jun",
          "26 jun",
          "27 jun",
          "28 jun",
          "29 jun",
          "30 jun",
          "01/jul",
          "02/jul",
          "03/jul",
          "04/jul",
          "05/jul",
          "06/jul",
          "07/jul",
          "08/jul",
          "09/jul",
          "10/jul",
          "11/jul",
          "12/jul",
          "13/jul",
          "14/jul",
          "15/jul",
          "16/jul",
          "17/jul",
          "18/jul",
          "19/jul",
          "20/jul",
          "21/jul",
          "22/jul",
          "23/jul",
          "24/jul",
          "25/jul",
          "26/jul",
          "27/jul",
          "28/jul",
          "29/jul",
          "30/jul",
          "31/jul",
          "01/ago",
          "02/ago",
          "03/ago",
          "04/ago",
          "05/ago",
          "06/ago",
          "07/ago",
          "08/ago",
          "09/ago",
          "10/ago",
          "11/ago",
          "12/ago",
          "13/ago",
          "14/ago",
          "15/ago",
          "16/ago",
          "17/ago",
          "18/ago",
          "19/ago",
          "20/ago",
          "21/ago",
          "22/ago",
          "23/ago",
          "24/ago",
          "25/ago",
          "26/ago",
          "27/ago",
          "28/ago",
          "29/ago",
          "30/ago",
          "31/ago",
          "01/set",
          "02/set",
          "03/set",
          "04/set",
          "05/set",
          "06/set",
          "07/set",
          "08/set",
          "09/set",
          "10/set",
          "11/set",
          "12/set",
          "13/set",
          "14/set",
          "15/set",
          "16/set",
          "17/set",
          "18/set",
          "19/set",
          "20/set",
          "21/set",
          "22/set",
          "23/set",
          "24/set",
          "25/set",
          "26/set",
          "27/set",
          "28/set",
          "29/set",
          "30/set",
          "01/out",
          "02/out",
          "03/out",
          "04/out",
          "05/out",
          "06/out",
          "07/out",
          "08/out",
          "09/out",
          "10/out",
          "11/out",
          "12/out",
          "13/out",
          "14/out",
          "15/out",
          "16/out",
          "17/out",
          "18/out",
          "19/out",
          "20/out",
          "21/out",
          "22/out",
          "23/out",
          "24/out",
          "25/out",
          "26/out",
          "27/out",
          "28/out",
          "29/out",
          "30/out",
          "31/out"
         ],
         "y": [
          12,
          76,
          46,
          110,
          63,
          172,
          114,
          65,
          52,
          190,
          171,
          183,
          45,
          66,
          822,
          642,
          525,
          542,
          418,
          154,
          241,
          821,
          1026,
          772,
          736,
          203,
          336,
          140,
          476,
          1672,
          525,
          1273,
          1053,
          373,
          313,
          805,
          529,
          826,
          1086,
          2178,
          711,
          981,
          2345,
          2117,
          2540,
          1676,
          800,
          598,
          415,
          1866,
          3800,
          2075,
          1902,
          2581,
          1033,
          687,
          1588,
          3378,
          3189,
          4092,
          2805,
          1162,
          721,
          2929,
          3864,
          3880,
          3132,
          3687,
          1603,
          1464,
          2392,
          3466,
          6382,
          5691,
          5586,
          2556,
          1598,
          6999,
          5188,
          5717,
          5365,
          5984,
          2524,
          1520,
          5545,
          6178,
          6204,
          5380,
          4975,
          5327,
          3258,
          8825,
          1232,
          1111,
          19030,
          4135,
          3392,
          2788,
          7502,
          9347,
          9765,
          9921,
          7073,
          6156,
          3408,
          6235,
          8555,
          12244,
          8338,
          2013,
          7649,
          2891,
          9638,
          8657,
          8350,
          9395,
          7780,
          5107,
          2610,
          12000,
          6569,
          8872,
          5367,
          4612,
          3022,
          1385,
          6235,
          16777,
          12561,
          11211,
          16263,
          4501,
          3672,
          12647,
          13896,
          14809,
          13298,
          10014,
          6367,
          1533,
          15371,
          9676,
          13405,
          9709,
          13352,
          5395,
          1289,
          11147,
          15619,
          19274,
          11667,
          11408,
          1963,
          3172,
          8865,
          9847,
          9451,
          5132,
          13284,
          4885,
          2351,
          9190,
          10465,
          8318,
          11756,
          5213,
          1982,
          938,
          10033,
          11956,
          11647,
          7038,
          8069,
          2637,
          1608,
          1453,
          7793,
          8178,
          8055,
          7881,
          1567,
          1092,
          7922,
          8157,
          7393,
          7711,
          7141,
          3627,
          2032,
          8090,
          6551,
          6267,
          6681,
          5967,
          1349,
          905,
          6377,
          6109,
          6097,
          5608,
          6096,
          473,
          677,
          6260,
          5916,
          5649,
          5786,
          6626,
          2844,
          684,
          685,
          6031,
          6553,
          5627,
          5394,
          968,
          437,
          4923,
          4299,
          3678,
          6702,
          5614,
          2725,
          863,
          5364,
          5375,
          5278,
          4928,
          2339
         ]
        }
       ],
       "layout": {
        "template": {
         "data": {
          "bar": [
           {
            "error_x": {
             "color": "#2a3f5f"
            },
            "error_y": {
             "color": "#2a3f5f"
            },
            "marker": {
             "line": {
              "color": "#E5ECF6",
              "width": 0.5
             }
            },
            "type": "bar"
           }
          ],
          "barpolar": [
           {
            "marker": {
             "line": {
              "color": "#E5ECF6",
              "width": 0.5
             }
            },
            "type": "barpolar"
           }
          ],
          "carpet": [
           {
            "aaxis": {
             "endlinecolor": "#2a3f5f",
             "gridcolor": "white",
             "linecolor": "white",
             "minorgridcolor": "white",
             "startlinecolor": "#2a3f5f"
            },
            "baxis": {
             "endlinecolor": "#2a3f5f",
             "gridcolor": "white",
             "linecolor": "white",
             "minorgridcolor": "white",
             "startlinecolor": "#2a3f5f"
            },
            "type": "carpet"
           }
          ],
          "choropleth": [
           {
            "colorbar": {
             "outlinewidth": 0,
             "ticks": ""
            },
            "type": "choropleth"
           }
          ],
          "contour": [
           {
            "colorbar": {
             "outlinewidth": 0,
             "ticks": ""
            },
            "colorscale": [
             [
              0,
              "#0d0887"
             ],
             [
              0.1111111111111111,
              "#46039f"
             ],
             [
              0.2222222222222222,
              "#7201a8"
             ],
             [
              0.3333333333333333,
              "#9c179e"
             ],
             [
              0.4444444444444444,
              "#bd3786"
             ],
             [
              0.5555555555555556,
              "#d8576b"
             ],
             [
              0.6666666666666666,
              "#ed7953"
             ],
             [
              0.7777777777777778,
              "#fb9f3a"
             ],
             [
              0.8888888888888888,
              "#fdca26"
             ],
             [
              1,
              "#f0f921"
             ]
            ],
            "type": "contour"
           }
          ],
          "contourcarpet": [
           {
            "colorbar": {
             "outlinewidth": 0,
             "ticks": ""
            },
            "type": "contourcarpet"
           }
          ],
          "heatmap": [
           {
            "colorbar": {
             "outlinewidth": 0,
             "ticks": ""
            },
            "colorscale": [
             [
              0,
              "#0d0887"
             ],
             [
              0.1111111111111111,
              "#46039f"
             ],
             [
              0.2222222222222222,
              "#7201a8"
             ],
             [
              0.3333333333333333,
              "#9c179e"
             ],
             [
              0.4444444444444444,
              "#bd3786"
             ],
             [
              0.5555555555555556,
              "#d8576b"
             ],
             [
              0.6666666666666666,
              "#ed7953"
             ],
             [
              0.7777777777777778,
              "#fb9f3a"
             ],
             [
              0.8888888888888888,
              "#fdca26"
             ],
             [
              1,
              "#f0f921"
             ]
            ],
            "type": "heatmap"
           }
          ],
          "heatmapgl": [
           {
            "colorbar": {
             "outlinewidth": 0,
             "ticks": ""
            },
            "colorscale": [
             [
              0,
              "#0d0887"
             ],
             [
              0.1111111111111111,
              "#46039f"
             ],
             [
              0.2222222222222222,
              "#7201a8"
             ],
             [
              0.3333333333333333,
              "#9c179e"
             ],
             [
              0.4444444444444444,
              "#bd3786"
             ],
             [
              0.5555555555555556,
              "#d8576b"
             ],
             [
              0.6666666666666666,
              "#ed7953"
             ],
             [
              0.7777777777777778,
              "#fb9f3a"
             ],
             [
              0.8888888888888888,
              "#fdca26"
             ],
             [
              1,
              "#f0f921"
             ]
            ],
            "type": "heatmapgl"
           }
          ],
          "histogram": [
           {
            "marker": {
             "colorbar": {
              "outlinewidth": 0,
              "ticks": ""
             }
            },
            "type": "histogram"
           }
          ],
          "histogram2d": [
           {
            "colorbar": {
             "outlinewidth": 0,
             "ticks": ""
            },
            "colorscale": [
             [
              0,
              "#0d0887"
             ],
             [
              0.1111111111111111,
              "#46039f"
             ],
             [
              0.2222222222222222,
              "#7201a8"
             ],
             [
              0.3333333333333333,
              "#9c179e"
             ],
             [
              0.4444444444444444,
              "#bd3786"
             ],
             [
              0.5555555555555556,
              "#d8576b"
             ],
             [
              0.6666666666666666,
              "#ed7953"
             ],
             [
              0.7777777777777778,
              "#fb9f3a"
             ],
             [
              0.8888888888888888,
              "#fdca26"
             ],
             [
              1,
              "#f0f921"
             ]
            ],
            "type": "histogram2d"
           }
          ],
          "histogram2dcontour": [
           {
            "colorbar": {
             "outlinewidth": 0,
             "ticks": ""
            },
            "colorscale": [
             [
              0,
              "#0d0887"
             ],
             [
              0.1111111111111111,
              "#46039f"
             ],
             [
              0.2222222222222222,
              "#7201a8"
             ],
             [
              0.3333333333333333,
              "#9c179e"
             ],
             [
              0.4444444444444444,
              "#bd3786"
             ],
             [
              0.5555555555555556,
              "#d8576b"
             ],
             [
              0.6666666666666666,
              "#ed7953"
             ],
             [
              0.7777777777777778,
              "#fb9f3a"
             ],
             [
              0.8888888888888888,
              "#fdca26"
             ],
             [
              1,
              "#f0f921"
             ]
            ],
            "type": "histogram2dcontour"
           }
          ],
          "mesh3d": [
           {
            "colorbar": {
             "outlinewidth": 0,
             "ticks": ""
            },
            "type": "mesh3d"
           }
          ],
          "parcoords": [
           {
            "line": {
             "colorbar": {
              "outlinewidth": 0,
              "ticks": ""
             }
            },
            "type": "parcoords"
           }
          ],
          "pie": [
           {
            "automargin": true,
            "type": "pie"
           }
          ],
          "scatter": [
           {
            "marker": {
             "colorbar": {
              "outlinewidth": 0,
              "ticks": ""
             }
            },
            "type": "scatter"
           }
          ],
          "scatter3d": [
           {
            "line": {
             "colorbar": {
              "outlinewidth": 0,
              "ticks": ""
             }
            },
            "marker": {
             "colorbar": {
              "outlinewidth": 0,
              "ticks": ""
             }
            },
            "type": "scatter3d"
           }
          ],
          "scattercarpet": [
           {
            "marker": {
             "colorbar": {
              "outlinewidth": 0,
              "ticks": ""
             }
            },
            "type": "scattercarpet"
           }
          ],
          "scattergeo": [
           {
            "marker": {
             "colorbar": {
              "outlinewidth": 0,
              "ticks": ""
             }
            },
            "type": "scattergeo"
           }
          ],
          "scattergl": [
           {
            "marker": {
             "colorbar": {
              "outlinewidth": 0,
              "ticks": ""
             }
            },
            "type": "scattergl"
           }
          ],
          "scattermapbox": [
           {
            "marker": {
             "colorbar": {
              "outlinewidth": 0,
              "ticks": ""
             }
            },
            "type": "scattermapbox"
           }
          ],
          "scatterpolar": [
           {
            "marker": {
             "colorbar": {
              "outlinewidth": 0,
              "ticks": ""
             }
            },
            "type": "scatterpolar"
           }
          ],
          "scatterpolargl": [
           {
            "marker": {
             "colorbar": {
              "outlinewidth": 0,
              "ticks": ""
             }
            },
            "type": "scatterpolargl"
           }
          ],
          "scatterternary": [
           {
            "marker": {
             "colorbar": {
              "outlinewidth": 0,
              "ticks": ""
             }
            },
            "type": "scatterternary"
           }
          ],
          "surface": [
           {
            "colorbar": {
             "outlinewidth": 0,
             "ticks": ""
            },
            "colorscale": [
             [
              0,
              "#0d0887"
             ],
             [
              0.1111111111111111,
              "#46039f"
             ],
             [
              0.2222222222222222,
              "#7201a8"
             ],
             [
              0.3333333333333333,
              "#9c179e"
             ],
             [
              0.4444444444444444,
              "#bd3786"
             ],
             [
              0.5555555555555556,
              "#d8576b"
             ],
             [
              0.6666666666666666,
              "#ed7953"
             ],
             [
              0.7777777777777778,
              "#fb9f3a"
             ],
             [
              0.8888888888888888,
              "#fdca26"
             ],
             [
              1,
              "#f0f921"
             ]
            ],
            "type": "surface"
           }
          ],
          "table": [
           {
            "cells": {
             "fill": {
              "color": "#EBF0F8"
             },
             "line": {
              "color": "white"
             }
            },
            "header": {
             "fill": {
              "color": "#C8D4E3"
             },
             "line": {
              "color": "white"
             }
            },
            "type": "table"
           }
          ]
         },
         "layout": {
          "annotationdefaults": {
           "arrowcolor": "#2a3f5f",
           "arrowhead": 0,
           "arrowwidth": 1
          },
          "coloraxis": {
           "colorbar": {
            "outlinewidth": 0,
            "ticks": ""
           }
          },
          "colorscale": {
           "diverging": [
            [
             0,
             "#8e0152"
            ],
            [
             0.1,
             "#c51b7d"
            ],
            [
             0.2,
             "#de77ae"
            ],
            [
             0.3,
             "#f1b6da"
            ],
            [
             0.4,
             "#fde0ef"
            ],
            [
             0.5,
             "#f7f7f7"
            ],
            [
             0.6,
             "#e6f5d0"
            ],
            [
             0.7,
             "#b8e186"
            ],
            [
             0.8,
             "#7fbc41"
            ],
            [
             0.9,
             "#4d9221"
            ],
            [
             1,
             "#276419"
            ]
           ],
           "sequential": [
            [
             0,
             "#0d0887"
            ],
            [
             0.1111111111111111,
             "#46039f"
            ],
            [
             0.2222222222222222,
             "#7201a8"
            ],
            [
             0.3333333333333333,
             "#9c179e"
            ],
            [
             0.4444444444444444,
             "#bd3786"
            ],
            [
             0.5555555555555556,
             "#d8576b"
            ],
            [
             0.6666666666666666,
             "#ed7953"
            ],
            [
             0.7777777777777778,
             "#fb9f3a"
            ],
            [
             0.8888888888888888,
             "#fdca26"
            ],
            [
             1,
             "#f0f921"
            ]
           ],
           "sequentialminus": [
            [
             0,
             "#0d0887"
            ],
            [
             0.1111111111111111,
             "#46039f"
            ],
            [
             0.2222222222222222,
             "#7201a8"
            ],
            [
             0.3333333333333333,
             "#9c179e"
            ],
            [
             0.4444444444444444,
             "#bd3786"
            ],
            [
             0.5555555555555556,
             "#d8576b"
            ],
            [
             0.6666666666666666,
             "#ed7953"
            ],
            [
             0.7777777777777778,
             "#fb9f3a"
            ],
            [
             0.8888888888888888,
             "#fdca26"
            ],
            [
             1,
             "#f0f921"
            ]
           ]
          },
          "colorway": [
           "#636efa",
           "#EF553B",
           "#00cc96",
           "#ab63fa",
           "#FFA15A",
           "#19d3f3",
           "#FF6692",
           "#B6E880",
           "#FF97FF",
           "#FECB52"
          ],
          "font": {
           "color": "#2a3f5f"
          },
          "geo": {
           "bgcolor": "white",
           "lakecolor": "white",
           "landcolor": "#E5ECF6",
           "showlakes": true,
           "showland": true,
           "subunitcolor": "white"
          },
          "hoverlabel": {
           "align": "left"
          },
          "hovermode": "closest",
          "mapbox": {
           "style": "light"
          },
          "paper_bgcolor": "white",
          "plot_bgcolor": "#E5ECF6",
          "polar": {
           "angularaxis": {
            "gridcolor": "white",
            "linecolor": "white",
            "ticks": ""
           },
           "bgcolor": "#E5ECF6",
           "radialaxis": {
            "gridcolor": "white",
            "linecolor": "white",
            "ticks": ""
           }
          },
          "scene": {
           "xaxis": {
            "backgroundcolor": "#E5ECF6",
            "gridcolor": "white",
            "gridwidth": 2,
            "linecolor": "white",
            "showbackground": true,
            "ticks": "",
            "zerolinecolor": "white"
           },
           "yaxis": {
            "backgroundcolor": "#E5ECF6",
            "gridcolor": "white",
            "gridwidth": 2,
            "linecolor": "white",
            "showbackground": true,
            "ticks": "",
            "zerolinecolor": "white"
           },
           "zaxis": {
            "backgroundcolor": "#E5ECF6",
            "gridcolor": "white",
            "gridwidth": 2,
            "linecolor": "white",
            "showbackground": true,
            "ticks": "",
            "zerolinecolor": "white"
           }
          },
          "shapedefaults": {
           "line": {
            "color": "#2a3f5f"
           }
          },
          "ternary": {
           "aaxis": {
            "gridcolor": "white",
            "linecolor": "white",
            "ticks": ""
           },
           "baxis": {
            "gridcolor": "white",
            "linecolor": "white",
            "ticks": ""
           },
           "bgcolor": "#E5ECF6",
           "caxis": {
            "gridcolor": "white",
            "linecolor": "white",
            "ticks": ""
           }
          },
          "title": {
           "x": 0.05
          },
          "xaxis": {
           "automargin": true,
           "gridcolor": "white",
           "linecolor": "white",
           "ticks": "",
           "title": {
            "standoff": 15
           },
           "zerolinecolor": "white",
           "zerolinewidth": 2
          },
          "yaxis": {
           "automargin": true,
           "gridcolor": "white",
           "linecolor": "white",
           "ticks": "",
           "title": {
            "standoff": 15
           },
           "zerolinecolor": "white",
           "zerolinewidth": 2
          }
         }
        },
        "title": {
         "text": "Covid-19 no Estado de São Paulo"
        },
        "xaxis": {
         "title": {
          "text": "Tempo"
         }
        },
        "yaxis": {
         "title": {
          "text": "Casos por dia"
         }
        }
       }
      },
      "text/html": [
       "<div>\n",
       "        \n",
       "        \n",
       "            <div id=\"6e6e8141-217c-476d-9073-e5c495a8fd1d\" class=\"plotly-graph-div\" style=\"height:525px; width:100%;\"></div>\n",
       "            <script type=\"text/javascript\">\n",
       "                require([\"plotly\"], function(Plotly) {\n",
       "                    window.PLOTLYENV=window.PLOTLYENV || {};\n",
       "                    \n",
       "                if (document.getElementById(\"6e6e8141-217c-476d-9073-e5c495a8fd1d\")) {\n",
       "                    Plotly.newPlot(\n",
       "                        '6e6e8141-217c-476d-9073-e5c495a8fd1d',\n",
       "                        [{\"marker\": {\"color\": \"#e74c3c\", \"line\": {\"color\": \"#c0392b\", \"width\": 1}}, \"mode\": \"markers\", \"opacity\": 0.8, \"type\": \"scatter\", \"x\": [\"17 mar\", \"18 mar\", \"19 mar\", \"20 mar\", \"21 mar\", \"22 mar\", \"23 mar\", \"24 mar\", \"25 mar\", \"26 mar\", \"27 mar\", \"28 mar\", \"29 mar\", \"30 mar\", \"31 mar\", \"01 abr\", \"02 abr\", \"03 abr\", \"04 abr\", \"05 abr\", \"06 abr\", \"07 abr\", \"08 abr\", \"09 abr\", \"10 abr\", \"11 abr\", \"12 abr\", \"13 abr\", \"14 abr\", \"15 abr\", \"16 abr\", \"17 abr\", \"18 abr\", \"19 abr\", \"20 abr\", \"21 abr\", \"22 abr\", \"23 abr\", \"24 abr\", \"25 abr\", \"26 abr\", \"27 abr\", \"28 abr\", \"29 abr\", \"30 abr\", \"01 mai\", \"02 mai\", \"03 mai\", \"04 mai\", \"05 mai\", \"06 mai\", \"07 mai\", \"08 mai\", \"09 mai\", \"10 mai\", \"11 mai\", \"12 mai\", \"13 mai\", \"14 mai\", \"15 mai\", \"16 mai\", \"17 mai\", \"18 mai\", \"19 mai\", \"20 mai\", \"21 mai\", \"22 mai\", \"23 mai\", \"24 mai\", \"25 mai\", \"26 mai\", \"27 mai\", \"28 mai\", \"29 mai\", \"30 mai\", \"31 mai\", \"01 jun\", \"02 jun\", \"03 jun\", \"04 jun\", \"05 jun\", \"06 jun\", \"07 jun\", \"08 jun\", \"09 jun\", \"10 jun\", \"11 jun\", \"12 jun\", \"13 jun\", \"14 jun\", \"15 jun\", \"16 jun\", \"17 jun\", \"18 jun\", \"19 jun\", \"20 jun\", \"21 jun\", \"22 jun\", \"23 jun\", \"24 jun\", \"25 jun\", \"26 jun\", \"27 jun\", \"28 jun\", \"29 jun\", \"30 jun\", \"01/jul\", \"02/jul\", \"03/jul\", \"04/jul\", \"05/jul\", \"06/jul\", \"07/jul\", \"08/jul\", \"09/jul\", \"10/jul\", \"11/jul\", \"12/jul\", \"13/jul\", \"14/jul\", \"15/jul\", \"16/jul\", \"17/jul\", \"18/jul\", \"19/jul\", \"20/jul\", \"21/jul\", \"22/jul\", \"23/jul\", \"24/jul\", \"25/jul\", \"26/jul\", \"27/jul\", \"28/jul\", \"29/jul\", \"30/jul\", \"31/jul\", \"01/ago\", \"02/ago\", \"03/ago\", \"04/ago\", \"05/ago\", \"06/ago\", \"07/ago\", \"08/ago\", \"09/ago\", \"10/ago\", \"11/ago\", \"12/ago\", \"13/ago\", \"14/ago\", \"15/ago\", \"16/ago\", \"17/ago\", \"18/ago\", \"19/ago\", \"20/ago\", \"21/ago\", \"22/ago\", \"23/ago\", \"24/ago\", \"25/ago\", \"26/ago\", \"27/ago\", \"28/ago\", \"29/ago\", \"30/ago\", \"31/ago\", \"01/set\", \"02/set\", \"03/set\", \"04/set\", \"05/set\", \"06/set\", \"07/set\", \"08/set\", \"09/set\", \"10/set\", \"11/set\", \"12/set\", \"13/set\", \"14/set\", \"15/set\", \"16/set\", \"17/set\", \"18/set\", \"19/set\", \"20/set\", \"21/set\", \"22/set\", \"23/set\", \"24/set\", \"25/set\", \"26/set\", \"27/set\", \"28/set\", \"29/set\", \"30/set\", \"01/out\", \"02/out\", \"03/out\", \"04/out\", \"05/out\", \"06/out\", \"07/out\", \"08/out\", \"09/out\", \"10/out\", \"11/out\", \"12/out\", \"13/out\", \"14/out\", \"15/out\", \"16/out\", \"17/out\", \"18/out\", \"19/out\", \"20/out\", \"21/out\", \"22/out\", \"23/out\", \"24/out\", \"25/out\", \"26/out\", \"27/out\", \"28/out\", \"29/out\", \"30/out\", \"31/out\"], \"y\": [12, 76, 46, 110, 63, 172, 114, 65, 52, 190, 171, 183, 45, 66, 822, 642, 525, 542, 418, 154, 241, 821, 1026, 772, 736, 203, 336, 140, 476, 1672, 525, 1273, 1053, 373, 313, 805, 529, 826, 1086, 2178, 711, 981, 2345, 2117, 2540, 1676, 800, 598, 415, 1866, 3800, 2075, 1902, 2581, 1033, 687, 1588, 3378, 3189, 4092, 2805, 1162, 721, 2929, 3864, 3880, 3132, 3687, 1603, 1464, 2392, 3466, 6382, 5691, 5586, 2556, 1598, 6999, 5188, 5717, 5365, 5984, 2524, 1520, 5545, 6178, 6204, 5380, 4975, 5327, 3258, 8825, 1232, 1111, 19030, 4135, 3392, 2788, 7502, 9347, 9765, 9921, 7073, 6156, 3408, 6235, 8555, 12244, 8338, 2013, 7649, 2891, 9638, 8657, 8350, 9395, 7780, 5107, 2610, 12000, 6569, 8872, 5367, 4612, 3022, 1385, 6235, 16777, 12561, 11211, 16263, 4501, 3672, 12647, 13896, 14809, 13298, 10014, 6367, 1533, 15371, 9676, 13405, 9709, 13352, 5395, 1289, 11147, 15619, 19274, 11667, 11408, 1963, 3172, 8865, 9847, 9451, 5132, 13284, 4885, 2351, 9190, 10465, 8318, 11756, 5213, 1982, 938, 10033, 11956, 11647, 7038, 8069, 2637, 1608, 1453, 7793, 8178, 8055, 7881, 1567, 1092, 7922, 8157, 7393, 7711, 7141, 3627, 2032, 8090, 6551, 6267, 6681, 5967, 1349, 905, 6377, 6109, 6097, 5608, 6096, 473, 677, 6260, 5916, 5649, 5786, 6626, 2844, 684, 685, 6031, 6553, 5627, 5394, 968, 437, 4923, 4299, 3678, 6702, 5614, 2725, 863, 5364, 5375, 5278, 4928, 2339]}],\n",
       "                        {\"template\": {\"data\": {\"bar\": [{\"error_x\": {\"color\": \"#2a3f5f\"}, \"error_y\": {\"color\": \"#2a3f5f\"}, \"marker\": {\"line\": {\"color\": \"#E5ECF6\", \"width\": 0.5}}, \"type\": \"bar\"}], \"barpolar\": [{\"marker\": {\"line\": {\"color\": \"#E5ECF6\", \"width\": 0.5}}, \"type\": \"barpolar\"}], \"carpet\": [{\"aaxis\": {\"endlinecolor\": \"#2a3f5f\", \"gridcolor\": \"white\", \"linecolor\": \"white\", \"minorgridcolor\": \"white\", \"startlinecolor\": \"#2a3f5f\"}, \"baxis\": {\"endlinecolor\": \"#2a3f5f\", \"gridcolor\": \"white\", \"linecolor\": \"white\", \"minorgridcolor\": \"white\", \"startlinecolor\": \"#2a3f5f\"}, \"type\": \"carpet\"}], \"choropleth\": [{\"colorbar\": {\"outlinewidth\": 0, \"ticks\": \"\"}, \"type\": \"choropleth\"}], \"contour\": [{\"colorbar\": {\"outlinewidth\": 0, \"ticks\": \"\"}, \"colorscale\": [[0.0, \"#0d0887\"], [0.1111111111111111, \"#46039f\"], [0.2222222222222222, \"#7201a8\"], [0.3333333333333333, \"#9c179e\"], [0.4444444444444444, \"#bd3786\"], [0.5555555555555556, \"#d8576b\"], [0.6666666666666666, \"#ed7953\"], [0.7777777777777778, \"#fb9f3a\"], [0.8888888888888888, \"#fdca26\"], [1.0, \"#f0f921\"]], \"type\": \"contour\"}], \"contourcarpet\": [{\"colorbar\": {\"outlinewidth\": 0, \"ticks\": \"\"}, \"type\": \"contourcarpet\"}], \"heatmap\": [{\"colorbar\": {\"outlinewidth\": 0, \"ticks\": \"\"}, \"colorscale\": [[0.0, \"#0d0887\"], [0.1111111111111111, \"#46039f\"], [0.2222222222222222, \"#7201a8\"], [0.3333333333333333, \"#9c179e\"], [0.4444444444444444, \"#bd3786\"], [0.5555555555555556, \"#d8576b\"], [0.6666666666666666, \"#ed7953\"], [0.7777777777777778, \"#fb9f3a\"], [0.8888888888888888, \"#fdca26\"], [1.0, \"#f0f921\"]], \"type\": \"heatmap\"}], \"heatmapgl\": [{\"colorbar\": {\"outlinewidth\": 0, \"ticks\": \"\"}, \"colorscale\": [[0.0, \"#0d0887\"], [0.1111111111111111, \"#46039f\"], [0.2222222222222222, \"#7201a8\"], [0.3333333333333333, \"#9c179e\"], [0.4444444444444444, \"#bd3786\"], [0.5555555555555556, \"#d8576b\"], [0.6666666666666666, \"#ed7953\"], [0.7777777777777778, \"#fb9f3a\"], [0.8888888888888888, \"#fdca26\"], [1.0, \"#f0f921\"]], \"type\": \"heatmapgl\"}], \"histogram\": [{\"marker\": {\"colorbar\": {\"outlinewidth\": 0, \"ticks\": \"\"}}, \"type\": \"histogram\"}], \"histogram2d\": [{\"colorbar\": {\"outlinewidth\": 0, \"ticks\": \"\"}, \"colorscale\": [[0.0, \"#0d0887\"], [0.1111111111111111, \"#46039f\"], [0.2222222222222222, \"#7201a8\"], [0.3333333333333333, \"#9c179e\"], [0.4444444444444444, \"#bd3786\"], [0.5555555555555556, \"#d8576b\"], [0.6666666666666666, \"#ed7953\"], [0.7777777777777778, \"#fb9f3a\"], [0.8888888888888888, \"#fdca26\"], [1.0, \"#f0f921\"]], \"type\": \"histogram2d\"}], \"histogram2dcontour\": [{\"colorbar\": {\"outlinewidth\": 0, \"ticks\": \"\"}, \"colorscale\": [[0.0, \"#0d0887\"], [0.1111111111111111, \"#46039f\"], [0.2222222222222222, \"#7201a8\"], [0.3333333333333333, \"#9c179e\"], [0.4444444444444444, \"#bd3786\"], [0.5555555555555556, \"#d8576b\"], [0.6666666666666666, \"#ed7953\"], [0.7777777777777778, \"#fb9f3a\"], [0.8888888888888888, \"#fdca26\"], [1.0, \"#f0f921\"]], \"type\": \"histogram2dcontour\"}], \"mesh3d\": [{\"colorbar\": {\"outlinewidth\": 0, \"ticks\": \"\"}, \"type\": \"mesh3d\"}], \"parcoords\": [{\"line\": {\"colorbar\": {\"outlinewidth\": 0, \"ticks\": \"\"}}, \"type\": \"parcoords\"}], \"pie\": [{\"automargin\": true, \"type\": \"pie\"}], \"scatter\": [{\"marker\": {\"colorbar\": {\"outlinewidth\": 0, \"ticks\": \"\"}}, \"type\": \"scatter\"}], \"scatter3d\": [{\"line\": {\"colorbar\": {\"outlinewidth\": 0, \"ticks\": \"\"}}, \"marker\": {\"colorbar\": {\"outlinewidth\": 0, \"ticks\": \"\"}}, \"type\": \"scatter3d\"}], \"scattercarpet\": [{\"marker\": {\"colorbar\": {\"outlinewidth\": 0, \"ticks\": \"\"}}, \"type\": \"scattercarpet\"}], \"scattergeo\": [{\"marker\": {\"colorbar\": {\"outlinewidth\": 0, \"ticks\": \"\"}}, \"type\": \"scattergeo\"}], \"scattergl\": [{\"marker\": {\"colorbar\": {\"outlinewidth\": 0, \"ticks\": \"\"}}, \"type\": \"scattergl\"}], \"scattermapbox\": [{\"marker\": {\"colorbar\": {\"outlinewidth\": 0, \"ticks\": \"\"}}, \"type\": \"scattermapbox\"}], \"scatterpolar\": [{\"marker\": {\"colorbar\": {\"outlinewidth\": 0, \"ticks\": \"\"}}, \"type\": \"scatterpolar\"}], \"scatterpolargl\": [{\"marker\": {\"colorbar\": {\"outlinewidth\": 0, \"ticks\": \"\"}}, \"type\": \"scatterpolargl\"}], \"scatterternary\": [{\"marker\": {\"colorbar\": {\"outlinewidth\": 0, \"ticks\": \"\"}}, \"type\": \"scatterternary\"}], \"surface\": [{\"colorbar\": {\"outlinewidth\": 0, \"ticks\": \"\"}, \"colorscale\": [[0.0, \"#0d0887\"], [0.1111111111111111, \"#46039f\"], [0.2222222222222222, \"#7201a8\"], [0.3333333333333333, \"#9c179e\"], [0.4444444444444444, \"#bd3786\"], [0.5555555555555556, \"#d8576b\"], [0.6666666666666666, \"#ed7953\"], [0.7777777777777778, \"#fb9f3a\"], [0.8888888888888888, \"#fdca26\"], [1.0, \"#f0f921\"]], \"type\": \"surface\"}], \"table\": [{\"cells\": {\"fill\": {\"color\": \"#EBF0F8\"}, \"line\": {\"color\": \"white\"}}, \"header\": {\"fill\": {\"color\": \"#C8D4E3\"}, \"line\": {\"color\": \"white\"}}, \"type\": \"table\"}]}, \"layout\": {\"annotationdefaults\": {\"arrowcolor\": \"#2a3f5f\", \"arrowhead\": 0, \"arrowwidth\": 1}, \"coloraxis\": {\"colorbar\": {\"outlinewidth\": 0, \"ticks\": \"\"}}, \"colorscale\": {\"diverging\": [[0, \"#8e0152\"], [0.1, \"#c51b7d\"], [0.2, \"#de77ae\"], [0.3, \"#f1b6da\"], [0.4, \"#fde0ef\"], [0.5, \"#f7f7f7\"], [0.6, \"#e6f5d0\"], [0.7, \"#b8e186\"], [0.8, \"#7fbc41\"], [0.9, \"#4d9221\"], [1, \"#276419\"]], \"sequential\": [[0.0, \"#0d0887\"], [0.1111111111111111, \"#46039f\"], [0.2222222222222222, \"#7201a8\"], [0.3333333333333333, \"#9c179e\"], [0.4444444444444444, \"#bd3786\"], [0.5555555555555556, \"#d8576b\"], [0.6666666666666666, \"#ed7953\"], [0.7777777777777778, \"#fb9f3a\"], [0.8888888888888888, \"#fdca26\"], [1.0, \"#f0f921\"]], \"sequentialminus\": [[0.0, \"#0d0887\"], [0.1111111111111111, \"#46039f\"], [0.2222222222222222, \"#7201a8\"], [0.3333333333333333, \"#9c179e\"], [0.4444444444444444, \"#bd3786\"], [0.5555555555555556, \"#d8576b\"], [0.6666666666666666, \"#ed7953\"], [0.7777777777777778, \"#fb9f3a\"], [0.8888888888888888, \"#fdca26\"], [1.0, \"#f0f921\"]]}, \"colorway\": [\"#636efa\", \"#EF553B\", \"#00cc96\", \"#ab63fa\", \"#FFA15A\", \"#19d3f3\", \"#FF6692\", \"#B6E880\", \"#FF97FF\", \"#FECB52\"], \"font\": {\"color\": \"#2a3f5f\"}, \"geo\": {\"bgcolor\": \"white\", \"lakecolor\": \"white\", \"landcolor\": \"#E5ECF6\", \"showlakes\": true, \"showland\": true, \"subunitcolor\": \"white\"}, \"hoverlabel\": {\"align\": \"left\"}, \"hovermode\": \"closest\", \"mapbox\": {\"style\": \"light\"}, \"paper_bgcolor\": \"white\", \"plot_bgcolor\": \"#E5ECF6\", \"polar\": {\"angularaxis\": {\"gridcolor\": \"white\", \"linecolor\": \"white\", \"ticks\": \"\"}, \"bgcolor\": \"#E5ECF6\", \"radialaxis\": {\"gridcolor\": \"white\", \"linecolor\": \"white\", \"ticks\": \"\"}}, \"scene\": {\"xaxis\": {\"backgroundcolor\": \"#E5ECF6\", \"gridcolor\": \"white\", \"gridwidth\": 2, \"linecolor\": \"white\", \"showbackground\": true, \"ticks\": \"\", \"zerolinecolor\": \"white\"}, \"yaxis\": {\"backgroundcolor\": \"#E5ECF6\", \"gridcolor\": \"white\", \"gridwidth\": 2, \"linecolor\": \"white\", \"showbackground\": true, \"ticks\": \"\", \"zerolinecolor\": \"white\"}, \"zaxis\": {\"backgroundcolor\": \"#E5ECF6\", \"gridcolor\": \"white\", \"gridwidth\": 2, \"linecolor\": \"white\", \"showbackground\": true, \"ticks\": \"\", \"zerolinecolor\": \"white\"}}, \"shapedefaults\": {\"line\": {\"color\": \"#2a3f5f\"}}, \"ternary\": {\"aaxis\": {\"gridcolor\": \"white\", \"linecolor\": \"white\", \"ticks\": \"\"}, \"baxis\": {\"gridcolor\": \"white\", \"linecolor\": \"white\", \"ticks\": \"\"}, \"bgcolor\": \"#E5ECF6\", \"caxis\": {\"gridcolor\": \"white\", \"linecolor\": \"white\", \"ticks\": \"\"}}, \"title\": {\"x\": 0.05}, \"xaxis\": {\"automargin\": true, \"gridcolor\": \"white\", \"linecolor\": \"white\", \"ticks\": \"\", \"title\": {\"standoff\": 15}, \"zerolinecolor\": \"white\", \"zerolinewidth\": 2}, \"yaxis\": {\"automargin\": true, \"gridcolor\": \"white\", \"linecolor\": \"white\", \"ticks\": \"\", \"title\": {\"standoff\": 15}, \"zerolinecolor\": \"white\", \"zerolinewidth\": 2}}}, \"title\": {\"text\": \"Covid-19 no Estado de S\\u00e3o Paulo\"}, \"xaxis\": {\"title\": {\"text\": \"Tempo\"}}, \"yaxis\": {\"title\": {\"text\": \"Casos por dia\"}}},\n",
       "                        {\"responsive\": true}\n",
       "                    ).then(function(){\n",
       "                            \n",
       "var gd = document.getElementById('6e6e8141-217c-476d-9073-e5c495a8fd1d');\n",
       "var x = new MutationObserver(function (mutations, observer) {{\n",
       "        var display = window.getComputedStyle(gd).display;\n",
       "        if (!display || display === 'none') {{\n",
       "            console.log([gd, 'removed!']);\n",
       "            Plotly.purge(gd);\n",
       "            observer.disconnect();\n",
       "        }}\n",
       "}});\n",
       "\n",
       "// Listen for the removal of the full notebook cells\n",
       "var notebookContainer = gd.closest('#notebook-container');\n",
       "if (notebookContainer) {{\n",
       "    x.observe(notebookContainer, {childList: true});\n",
       "}}\n",
       "\n",
       "// Listen for the clearing of the current output cell\n",
       "var outputEl = gd.closest('.output');\n",
       "if (outputEl) {{\n",
       "    x.observe(outputEl, {childList: true});\n",
       "}}\n",
       "\n",
       "                        })\n",
       "                };\n",
       "                });\n",
       "            </script>\n",
       "        </div>"
      ]
     },
     "metadata": {},
     "output_type": "display_data"
    }
   ],
   "source": [
    "trace = go.Scatter(x = covid_sp['Data'],\n",
    "                   y = covid_sp['Casos por dia'],\n",
    "                   mode = 'markers',\n",
    "                   marker =  {'color' : '#e74c3c',\n",
    "                              'line' : {'width': 1,\n",
    "                                        'color': '#c0392b'}},\n",
    "                   opacity=.8)\n",
    "data = [trace]\n",
    "layout = go.Layout(title='Covid-19 no Estado de São Paulo',\n",
    "                   yaxis={'title':'Casos por dia'},\n",
    "                   xaxis={'title':'Tempo'})\n",
    "fig = go.Figure(data=data, layout=layout)\n",
    "py.iplot(fig)"
   ]
  },
  {
   "cell_type": "markdown",
   "metadata": {},
   "source": [
    "### Conclusão\n",
    "### Observando se o gráfico de Total de casos vs Tempo, percebe-se um aumento exponencial acentuado de 17 de março até o meio de agosto. À partir daí ocorre um aumento mais suave, sugerindo uma possível estabilização.\n",
    "### Fato este, que fica mais claro no segundo gráfico: Casos por Dia vs Tempo. Onde a quantidade de casos diários começa a diminuir à partir do meio do mês de agosto de 2020. A pandemia estaria controlada quando o número de casos por dia tendesse a zero ou zerasse."
   ]
  },
  {
   "cell_type": "code",
   "execution_count": null,
   "metadata": {},
   "outputs": [],
   "source": []
  }
 ],
 "metadata": {
  "kernelspec": {
   "display_name": "Python 3",
   "language": "python",
   "name": "python3"
  },
  "language_info": {
   "codemirror_mode": {
    "name": "ipython",
    "version": 3
   },
   "file_extension": ".py",
   "mimetype": "text/x-python",
   "name": "python",
   "nbconvert_exporter": "python",
   "pygments_lexer": "ipython3",
   "version": "3.7.3"
  }
 },
 "nbformat": 4,
 "nbformat_minor": 2
}
